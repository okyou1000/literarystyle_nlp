{
  "nbformat": 4,
  "nbformat_minor": 0,
  "metadata": {
    "colab": {
      "name": "dacon_naiveBayes_tuning.ipynb",
      "provenance": [],
      "mount_file_id": "1m6aSAR3Ro758BhIOv-iOnrfq4Rq1b-5W",
      "authorship_tag": "ABX9TyPI2FkXCDKQyz/o5rn2P0uj"
    },
    "kernelspec": {
      "name": "python3",
      "display_name": "Python 3"
    },
    "accelerator": "GPU"
  },
  "cells": [
    {
      "cell_type": "code",
      "metadata": {
        "id": "IFv9eX_9H_vj"
      },
      "source": [
        "import pandas as pd\n",
        "import warnings\n",
        "warnings.filterwarnings(action = 'ignore')\n",
        "import numpy as np\n",
        "import tensorflow as tf\n",
        "from tensorflow.keras.preprocessing.sequence import pad_sequences\n",
        "from tensorflow.keras.preprocessing.text import Tokenizer\n",
        "import re"
      ],
      "execution_count": 8,
      "outputs": []
    },
    {
      "cell_type": "code",
      "metadata": {
        "id": "DBxYoFIWIFrw"
      },
      "source": [
        "# 파일 불러오기\n",
        "train = pd.read_csv('/content/drive/My Drive/Semi-project_01/open/train.csv', encoding = 'utf-8')\n",
        "test = pd.read_csv('/content/drive/My Drive/Semi-project_01/open/test_x.csv', encoding = 'utf-8')\n",
        "sample_submission = pd.read_csv('/content/drive/My Drive/Semi-project_01/open/sample_submission.csv', encoding = 'utf-8')"
      ],
      "execution_count": 41,
      "outputs": []
    },
    {
      "cell_type": "code",
      "metadata": {
        "id": "BoE4QIumBx-6"
      },
      "source": [
        "import matplotlib.pyplot as plt\n",
        "import seaborn as sns"
      ],
      "execution_count": 66,
      "outputs": []
    },
    {
      "cell_type": "markdown",
      "metadata": {
        "id": "H-4w0JeNP0I4"
      },
      "source": [
        "# **전처리**"
      ]
    },
    {
      "cell_type": "code",
      "metadata": {
        "id": "SgFtufpdILf8"
      },
      "source": [
        "# 부호를 제거해주는 함수\n",
        "def alpha_num(text) :\n",
        "  return re.sub(r'[^A-Za-z0-9 ]', '', text)\n",
        "\n",
        "train['text'] = train['text'].apply(alpha_num)"
      ],
      "execution_count": 42,
      "outputs": []
    },
    {
      "cell_type": "code",
      "metadata": {
        "id": "OIWanOzhIN_A",
        "outputId": "e828201f-4b52-47e8-a698-140709efff58",
        "colab": {
          "base_uri": "https://localhost:8080/",
          "height": 411
        }
      },
      "source": [
        "# 이상치 제거\n",
        "train = train[train.text != \"     \"]\n",
        "train = train.reset_index(drop=True)\n",
        "train"
      ],
      "execution_count": 43,
      "outputs": [
        {
          "output_type": "execute_result",
          "data": {
            "text/html": [
              "<div>\n",
              "<style scoped>\n",
              "    .dataframe tbody tr th:only-of-type {\n",
              "        vertical-align: middle;\n",
              "    }\n",
              "\n",
              "    .dataframe tbody tr th {\n",
              "        vertical-align: top;\n",
              "    }\n",
              "\n",
              "    .dataframe thead th {\n",
              "        text-align: right;\n",
              "    }\n",
              "</style>\n",
              "<table border=\"1\" class=\"dataframe\">\n",
              "  <thead>\n",
              "    <tr style=\"text-align: right;\">\n",
              "      <th></th>\n",
              "      <th>index</th>\n",
              "      <th>text</th>\n",
              "      <th>author</th>\n",
              "    </tr>\n",
              "  </thead>\n",
              "  <tbody>\n",
              "    <tr>\n",
              "      <th>0</th>\n",
              "      <td>0</td>\n",
              "      <td>He was almost choking There was so much so muc...</td>\n",
              "      <td>3</td>\n",
              "    </tr>\n",
              "    <tr>\n",
              "      <th>1</th>\n",
              "      <td>1</td>\n",
              "      <td>Your sister asked for it I suppose</td>\n",
              "      <td>2</td>\n",
              "    </tr>\n",
              "    <tr>\n",
              "      <th>2</th>\n",
              "      <td>2</td>\n",
              "      <td>She was engaged one day as she walked in peru...</td>\n",
              "      <td>1</td>\n",
              "    </tr>\n",
              "    <tr>\n",
              "      <th>3</th>\n",
              "      <td>3</td>\n",
              "      <td>The captain was in the porch keeping himself c...</td>\n",
              "      <td>4</td>\n",
              "    </tr>\n",
              "    <tr>\n",
              "      <th>4</th>\n",
              "      <td>4</td>\n",
              "      <td>Have mercy gentlemen odin flung up his hands D...</td>\n",
              "      <td>3</td>\n",
              "    </tr>\n",
              "    <tr>\n",
              "      <th>...</th>\n",
              "      <td>...</td>\n",
              "      <td>...</td>\n",
              "      <td>...</td>\n",
              "    </tr>\n",
              "    <tr>\n",
              "      <th>54831</th>\n",
              "      <td>54874</td>\n",
              "      <td>Is that you Mr Smith odin whispered I hardly d...</td>\n",
              "      <td>2</td>\n",
              "    </tr>\n",
              "    <tr>\n",
              "      <th>54832</th>\n",
              "      <td>54875</td>\n",
              "      <td>I told my plan to the captain and between us w...</td>\n",
              "      <td>4</td>\n",
              "    </tr>\n",
              "    <tr>\n",
              "      <th>54833</th>\n",
              "      <td>54876</td>\n",
              "      <td>Your sincere wellwisher friend and sister LUC...</td>\n",
              "      <td>1</td>\n",
              "    </tr>\n",
              "    <tr>\n",
              "      <th>54834</th>\n",
              "      <td>54877</td>\n",
              "      <td>Then you wanted me to lend you money</td>\n",
              "      <td>3</td>\n",
              "    </tr>\n",
              "    <tr>\n",
              "      <th>54835</th>\n",
              "      <td>54878</td>\n",
              "      <td>It certainly had not occurred to me before but...</td>\n",
              "      <td>0</td>\n",
              "    </tr>\n",
              "  </tbody>\n",
              "</table>\n",
              "<p>54836 rows × 3 columns</p>\n",
              "</div>"
            ],
            "text/plain": [
              "       index                                               text  author\n",
              "0          0  He was almost choking There was so much so muc...       3\n",
              "1          1                 Your sister asked for it I suppose       2\n",
              "2          2   She was engaged one day as she walked in peru...       1\n",
              "3          3  The captain was in the porch keeping himself c...       4\n",
              "4          4  Have mercy gentlemen odin flung up his hands D...       3\n",
              "...      ...                                                ...     ...\n",
              "54831  54874  Is that you Mr Smith odin whispered I hardly d...       2\n",
              "54832  54875  I told my plan to the captain and between us w...       4\n",
              "54833  54876   Your sincere wellwisher friend and sister LUC...       1\n",
              "54834  54877               Then you wanted me to lend you money       3\n",
              "54835  54878  It certainly had not occurred to me before but...       0\n",
              "\n",
              "[54836 rows x 3 columns]"
            ]
          },
          "metadata": {
            "tags": []
          },
          "execution_count": 43
        }
      ]
    },
    {
      "cell_type": "code",
      "metadata": {
        "id": "b64iEUK7IPs5",
        "outputId": "9254118a-b942-4f10-ad29-fb6e24060bda",
        "colab": {
          "base_uri": "https://localhost:8080/"
        }
      },
      "source": [
        "import nltk\n",
        "nltk.download('stopwords')\n",
        "stopwords=nltk.corpus.stopwords.words('english')\n",
        "stopwords.append('odin')\n",
        "stopwords.extend(['could', 'ought', 'would'])"
      ],
      "execution_count": 12,
      "outputs": [
        {
          "output_type": "stream",
          "text": [
            "[nltk_data] Downloading package stopwords to /root/nltk_data...\n",
            "[nltk_data]   Package stopwords is already up-to-date!\n"
          ],
          "name": "stdout"
        }
      ]
    },
    {
      "cell_type": "code",
      "metadata": {
        "id": "Nx0grufSIRVE"
      },
      "source": [
        "# 불용어 제거해주는 함수\n",
        "def remove_stopwords(text):\n",
        "    final_text = []\n",
        "    for i in text.split():\n",
        "        if i.strip().lower() not in stopwords:\n",
        "            final_text.append(i.strip())\n",
        "    return \" \".join(final_text)\n",
        "\n",
        "# 불용어\n",
        "# stopwords = [ \"a\", \"about\", \"above\", \"after\", \"again\", \"against\", \"all\", \"am\", \"an\", \"and\", \"any\", \"are\", \"as\", \n",
        "#              \"at\", \"be\", \"because\", \"been\", \"before\", \"being\", \"below\", \"between\", \"both\", \"but\", \"by\", \"could\", \n",
        "#              \"did\", \"do\", \"does\", \"doing\", \"down\", \"during\", \"each\", \"few\", \"for\", \"from\", \"further\", \"had\", \"has\", \n",
        "#              \"have\", \"having\", \"he\", \"he'd\", \"he'll\", \"he's\", \"her\", \"here\", \"here's\", \"hers\", \"herself\", \"him\", \"himself\", \n",
        "#              \"his\", \"how\", \"how's\", \"i\", \"i'd\", \"i'll\", \"i'm\", \"i've\", \"if\", \"in\", \"into\", \"is\", \"it\", \"it's\", \"its\", \"itself\", \n",
        "#              \"let's\", \"me\", \"more\", \"most\", \"my\", \"myself\", \"nor\", \"of\", \"on\", \"once\", \"only\", \"or\", \"other\", \"ought\", \"our\", \"ours\", \n",
        "#              \"ourselves\", \"out\", \"over\", \"own\", \"same\", \"she\", \"she'd\", \"she'll\", \"she's\", \"should\", \"so\", \"some\", \"such\", \"than\", \"that\", \n",
        "#              \"that's\", \"the\", \"their\", \"theirs\", \"them\", \"themselves\", \"then\", \"there\", \"there's\", \"these\", \"they\", \"they'd\", \"they'll\", \n",
        "#              \"they're\", \"they've\", \"this\", \"those\", \"through\", \"to\", \"too\", \"under\", \"until\", \"up\", \"very\", \"was\", \"we\", \"we'd\", \"we'll\", \n",
        "#              \"we're\", \"we've\", \"were\", \"what\", \"what's\", \"when\", \"when's\", \"where\", \"where's\", \"which\", \"while\", \"who\", \"who's\", \"whom\", \n",
        "#              \"why\", \"why's\", \"with\", \"would\", \"you\", \"you'd\", \"you'll\", \"you're\", \"you've\", \"your\", \"yours\", \"yourself\", \"yourselves\" ]"
      ],
      "execution_count": 13,
      "outputs": []
    },
    {
      "cell_type": "code",
      "metadata": {
        "id": "2o8keykd-VF8"
      },
      "source": [
        "# # 어간추출\n",
        "# from nltk.stem.snowball import SnowballStemmer\n",
        "# stemmer = SnowballStemmer('english')\n",
        "\n",
        "# def stemming(text):\n",
        "#     final_text = []\n",
        "#     for i in text.split():\n",
        "#       final_text.append(stemmer.stem(i))\n",
        "#     return \" \".join(final_text)"
      ],
      "execution_count": 33,
      "outputs": []
    },
    {
      "cell_type": "code",
      "metadata": {
        "id": "RRTihXKTIS9y"
      },
      "source": [
        "#전처리 적용\n",
        "train['text'] = train['text'].str.lower()\n",
        "test['text'] = test['text'].str.lower()\n",
        "train['text'] = train['text'].apply(alpha_num).apply(remove_stopwords)\n",
        "test['text'] = test['text'].apply(alpha_num).apply(remove_stopwords)"
      ],
      "execution_count": 44,
      "outputs": []
    },
    {
      "cell_type": "markdown",
      "metadata": {
        "id": "BJKAnf_UP4eA"
      },
      "source": [
        "# **시각화**"
      ]
    },
    {
      "cell_type": "code",
      "metadata": {
        "id": "q-f9-TK5B2nA",
        "outputId": "d13f2af5-b42e-4c4d-ae2c-023c033f1cc0",
        "colab": {
          "base_uri": "https://localhost:8080/",
          "height": 295
        }
      },
      "source": [
        "fig=plt.figure()\n",
        "\n",
        "sns.countplot(train['author'])\n",
        "plt.title('Train data')\n",
        "\n",
        "plt.show()"
      ],
      "execution_count": 73,
      "outputs": [
        {
          "output_type": "display_data",
          "data": {
            "image/png": "[encoded data removed]",
            "text/plain": [
              "<Figure size 432x288 with 1 Axes>"
            ]
          },
          "metadata": {
            "tags": [],
            "needs_background": "light"
          }
        }
      ]
    },
    {
      "cell_type": "code",
      "metadata": {
        "id": "ekZ8gLWsDGjN"
      },
      "source": [
        "author0=train[train['author']==0]\n",
        "author0_text_length=[len(i) for i in author0['text']]\n",
        "\n",
        "author1=train[train['author']==1]\n",
        "author1_text_length=[len(i) for i in author1['text']]\n",
        "\n",
        "author2=train[train['author']==2]\n",
        "author2_text_length=[len(i) for i in author2['text']]\n",
        "\n",
        "author3=train[train['author']==3]\n",
        "author3_text_length=[len(i) for i in author3['text']]\n",
        "\n",
        "author4=train[train['author']==4]\n",
        "author4_text_length=[len(i) for i in author4['text']]"
      ],
      "execution_count": 76,
      "outputs": []
    },
    {
      "cell_type": "code",
      "metadata": {
        "id": "uKsXXw46D4mX",
        "outputId": "1f47b9bf-d5ca-4773-df9d-df59ad06db1c",
        "colab": {
          "base_uri": "https://localhost:8080/",
          "height": 232
        }
      },
      "source": [
        "fig=plt.figure(figsize=(20,6))\n",
        "\n",
        "plt.suptitle('Text length distribution per author')\n",
        "\n",
        "ax1=fig.add_subplot(1,5,1)\n",
        "sns.distplot(author0_text_length, kde=False, ax=ax1)\n",
        "ax1.set_title('Author0')\n",
        "\n",
        "ax2=fig.add_subplot(1,5,2)\n",
        "sns.distplot(author1_text_length, kde=False, ax=ax2)\n",
        "ax2.set_title('Author1')\n",
        "\n",
        "ax3=fig.add_subplot(1,5,3)\n",
        "sns.distplot(author2_text_length, kde=False, ax=ax3)\n",
        "ax3.set_title('Author2')\n",
        "\n",
        "ax4=fig.add_subplot(1,5,4)\n",
        "sns.distplot(author3_text_length, kde=False, ax=ax4)\n",
        "ax4.set_title('Author3')\n",
        "\n",
        "ax5=fig.add_subplot(1,5,5)\n",
        "sns.distplot(author4_text_length, kde=False, ax=ax5)\n",
        "ax5.set_title('Author4')\n",
        "\n",
        "plt.show()"
      ],
      "execution_count": 93,
      "outputs": [
        {
          "output_type": "display_data",
          "data": {
            "image/png": "[encoded data removed]",
            "text/plain": [
              "<Figure size 1440x432 with 5 Axes>"
            ]
          },
          "metadata": {
            "tags": [],
            "needs_background": "light"
          }
        }
      ]
    },
    {
      "cell_type": "code",
      "metadata": {
        "id": "IoxP-XpzQF0-",
        "outputId": "34462d19-5a11-45ab-a161-08fcd3901db0",
        "colab": {
          "base_uri": "https://localhost:8080/"
        }
      },
      "source": [
        "text0=\" \".join([i for i in author0['text']])\n",
        "text1=\" \".join([i for i in author1['text']])\n",
        "text2=\" \".join([i for i in author2['text']])\n",
        "text3=\" \".join([i for i in author3['text']])\n",
        "text4=\" \".join([i for i in author4['text']])\n",
        "\n",
        "full_text=text0 + \" \" + text1 + \" \" + text2 + \" \" + text3 + \" \" + text4\n",
        "\n",
        "unique_vocab_size=len(set(full_text.split()))\n",
        "print(\"unique 단어 개수: \", unique_vocab_size)"
      ],
      "execution_count": 107,
      "outputs": [
        {
          "output_type": "stream",
          "text": [
            "unique 단어 개수:  47116\n"
          ],
          "name": "stdout"
        }
      ]
    },
    {
      "cell_type": "markdown",
      "metadata": {
        "id": "RTWkzAosP7oK"
      },
      "source": [
        "# **모델링**"
      ]
    },
    {
      "cell_type": "code",
      "metadata": {
        "id": "YvVhugxWIUw7"
      },
      "source": [
        "# logloss 함수\n",
        "def multiclass_logloss(actual, predicted, eps=1e-15):\n",
        "\n",
        "    if len(actual.shape) == 1:\n",
        "        actual2 = np.zeros((actual.shape[0], predicted.shape[1]))\n",
        "        for i, val in enumerate(actual):\n",
        "            actual2[i, val] = 1\n",
        "        actual = actual2\n",
        "\n",
        "    clip = np.clip(predicted, eps, 1 - eps)\n",
        "    rows = actual.shape[0]\n",
        "    vsota = np.sum(actual * np.log(clip))\n",
        "    return -1.0 / rows * vsota"
      ],
      "execution_count": 15,
      "outputs": []
    },
    {
      "cell_type": "code",
      "metadata": {
        "id": "GgtFToHfIYSp"
      },
      "source": [
        "# from sklearn.feature_extraction.text import CountVectorizer\n",
        "\n",
        "# vec=CountVectorizer(analyzer='word', token_pattern=r'\\w{1,}', ngram_range=(1,3),\n",
        "#                     stop_words='english')\n",
        "\n",
        "# vec.fit(list(train['text'])+list(test['text']))\n",
        "\n",
        "# xtrain_ctv=vec.transform(train['text'])\n",
        "# xtest_ctv=vec.transform(test['text'])"
      ],
      "execution_count": null,
      "outputs": []
    },
    {
      "cell_type": "code",
      "metadata": {
        "id": "h0yjVebVIadc"
      },
      "source": [
        "from sklearn.naive_bayes import MultinomialNB\n",
        "from sklearn.model_selection import GridSearchCV\n",
        "from sklearn.model_selection import train_test_split\n",
        "from sklearn.metrics import make_scorer\n",
        "from sklearn.decomposition import TruncatedSVD\n",
        "from sklearn.preprocessing import StandardScaler\n",
        "from sklearn.pipeline import Pipeline\n",
        "from sklearn.feature_extraction.text import TfidfVectorizer"
      ],
      "execution_count": 16,
      "outputs": []
    },
    {
      "cell_type": "code",
      "metadata": {
        "id": "e8Me6-Ea_jsn"
      },
      "source": [
        "np.random.seed(2020)"
      ],
      "execution_count": 51,
      "outputs": []
    },
    {
      "cell_type": "code",
      "metadata": {
        "id": "cK2UBgKpInIv"
      },
      "source": [
        "scorer=make_scorer(multiclass_logloss, greater_is_better=False, needs_proba=True)"
      ],
      "execution_count": 52,
      "outputs": []
    },
    {
      "cell_type": "code",
      "metadata": {
        "id": "vjtFUvdLXudL",
        "outputId": "a9d69dd3-2384-4c60-9ec0-d81733f76808",
        "colab": {
          "base_uri": "https://localhost:8080/"
        }
      },
      "source": [
        "print(\"train['text'] max 길이: \",max(len(i) for i in train['text']))\n",
        "print(\"test['text'] max 길이: \",max(len(i) for i in test['text']))\n",
        "\n",
        "print(\"train['text'] min 길이: \",min(len(i) for i in train['text']))\n",
        "print(\"test['text'] min 길이: \",min(len(i) for i in test['text']))"
      ],
      "execution_count": 18,
      "outputs": [
        {
          "output_type": "stream",
          "text": [
            "train['text'] max 길이:  1345\n",
            "test['text'] max 길이:  1394\n",
            "train['text'] min 길이:  0\n",
            "test['text'] min 길이:  40\n"
          ],
          "name": "stdout"
        }
      ]
    },
    {
      "cell_type": "code",
      "metadata": {
        "id": "k0w-CUz3XMTu"
      },
      "source": [
        "# TF-IDF 모델 생성\n",
        "tfv=TfidfVectorizer(min_df=3, smooth_idf=1, sublinear_tf=1, use_idf=1)\n",
        "tfv.fit(list(train['text'])+list(test['text']))\n",
        "xtrain_tfv=tfv.transform(train['text'])\n",
        "xtest_tfv=tfv.transform(test['text'])"
      ],
      "execution_count": 53,
      "outputs": []
    },
    {
      "cell_type": "code",
      "metadata": {
        "id": "mDfmnPzkZgzw"
      },
      "source": [
        "y=train['author']"
      ],
      "execution_count": 54,
      "outputs": []
    },
    {
      "cell_type": "code",
      "metadata": {
        "id": "03MBvLuvIqyC"
      },
      "source": [
        "X_train, X_test, y_train, y_test = train_test_split(xtrain_tfv, y, \n",
        "                                                    test_size=0.3, random_state=2020)"
      ],
      "execution_count": 55,
      "outputs": []
    },
    {
      "cell_type": "code",
      "metadata": {
        "id": "gINnLmEkYe4L",
        "outputId": "732c8d1d-c677-4a3f-f5d0-af75ee833f88",
        "colab": {
          "base_uri": "https://localhost:8080/"
        }
      },
      "source": [
        "model=MultinomialNB()\n",
        "model.fit(xtrain_tfv, y)\n",
        "predictions=model.predict_proba(X_test)\n",
        "\n",
        "print('TF-IDF, logloss: %0.3f' % multiclass_logloss(y_test, predictions))"
      ],
      "execution_count": 56,
      "outputs": [
        {
          "output_type": "stream",
          "text": [
            "TF-IDF, logloss: 0.785\n"
          ],
          "name": "stdout"
        }
      ]
    },
    {
      "cell_type": "code",
      "metadata": {
        "id": "kI_LCECqaOn7",
        "outputId": "b3ad63e2-4433-4adf-c3b8-1e5894918267",
        "colab": {
          "base_uri": "https://localhost:8080/"
        }
      },
      "source": [
        "nb_model = MultinomialNB()\n",
        "\n",
        "# Create the pipeline \n",
        "clf = Pipeline([('nb', nb_model)])\n",
        "\n",
        "# parameter grid\n",
        "param_grid = {'nb__alpha': [0.001, 0.01, 0.1, 1, 10, 100]}\n",
        "\n",
        "# Initialize Grid Search Model\n",
        "model = GridSearchCV(estimator=clf, param_grid=param_grid, scoring=scorer,\n",
        "                                 verbose=10, n_jobs=-1, iid=True, refit=True, cv=5)\n",
        "\n",
        "# Fit Grid Search Model\n",
        "model.fit(xtrain_tfv, y)\n",
        "print(\"Best score: %0.3f\" % model.best_score_)\n",
        "print(\"Best parameters set:\")\n",
        "best_parameters = model.best_estimator_.get_params()\n",
        "for param_name in sorted(param_grid.keys()):\n",
        "    print(\"\\t%s: %r\" % (param_name, best_parameters[param_name]))"
      ],
      "execution_count": 62,
      "outputs": [
        {
          "output_type": "stream",
          "text": [
            "Fitting 5 folds for each of 6 candidates, totalling 30 fits\n"
          ],
          "name": "stdout"
        },
        {
          "output_type": "stream",
          "text": [
            "[Parallel(n_jobs=-1)]: Using backend LokyBackend with 2 concurrent workers.\n",
            "[Parallel(n_jobs=-1)]: Done   1 tasks      | elapsed:    1.1s\n",
            "[Parallel(n_jobs=-1)]: Done   4 tasks      | elapsed:    1.2s\n",
            "[Parallel(n_jobs=-1)]: Done   9 tasks      | elapsed:    1.4s\n",
            "[Parallel(n_jobs=-1)]: Done  14 tasks      | elapsed:    1.5s\n",
            "[Parallel(n_jobs=-1)]: Batch computation too fast (0.1945s.) Setting batch_size=2.\n",
            "[Parallel(n_jobs=-1)]: Done  22 tasks      | elapsed:    1.8s\n",
            "[Parallel(n_jobs=-1)]: Batch computation too fast (0.1918s.) Setting batch_size=4.\n"
          ],
          "name": "stderr"
        },
        {
          "output_type": "stream",
          "text": [
            "Best score: -0.731\n",
            "Best parameters set:\n",
            "\tnb__alpha: 0.01\n"
          ],
          "name": "stdout"
        },
        {
          "output_type": "stream",
          "text": [
            "[Parallel(n_jobs=-1)]: Done  30 out of  30 | elapsed:    2.1s finished\n"
          ],
          "name": "stderr"
        }
      ]
    },
    {
      "cell_type": "code",
      "metadata": {
        "id": "db_2XKClaxe4",
        "outputId": "06b21977-50e6-4ace-d830-fedf95a563ac",
        "colab": {
          "base_uri": "https://localhost:8080/"
        }
      },
      "source": [
        "model=MultinomialNB(alpha=0.01)\n",
        "model.fit(xtrain_tfv, y)\n",
        "predictions=model.predict_proba(X_test)\n",
        "\n",
        "print('TF-IDF & gridsearch, logloss: %0.3f' % multiclass_logloss(y_test, predictions))"
      ],
      "execution_count": 108,
      "outputs": [
        {
          "output_type": "stream",
          "text": [
            "TF-IDF & gridsearch, logloss: 0.494\n"
          ],
          "name": "stdout"
        }
      ]
    },
    {
      "cell_type": "code",
      "metadata": {
        "id": "XJM1ElAPJkrO"
      },
      "source": [
        "pred=model.predict_proba(xtest_tfv)"
      ],
      "execution_count": 109,
      "outputs": []
    },
    {
      "cell_type": "code",
      "metadata": {
        "id": "o18Oif83barM",
        "outputId": "25b85524-f680-4032-8e34-a202743935f0",
        "colab": {
          "base_uri": "https://localhost:8080/"
        }
      },
      "source": [
        "pred"
      ],
      "execution_count": 110,
      "outputs": [
        {
          "output_type": "execute_result",
          "data": {
            "text/plain": [
              "array([[1.70424038e-02, 2.47061047e-01, 1.93444800e-01, 5.35892293e-01,\n",
              "        6.55945631e-03],\n",
              "       [5.88371713e-02, 6.79357975e-01, 3.45041324e-03, 2.56035237e-01,\n",
              "        2.31920380e-03],\n",
              "       [9.57169738e-01, 8.79603771e-04, 1.52072980e-03, 1.34799904e-02,\n",
              "        2.69499377e-02],\n",
              "       ...,\n",
              "       [1.14154671e-02, 9.84924466e-01, 6.74751323e-04, 1.81180166e-03,\n",
              "        1.17351413e-03],\n",
              "       [5.94252521e-03, 9.87326726e-01, 2.28736527e-03, 4.36368616e-03,\n",
              "        7.96977375e-05],\n",
              "       [9.24101007e-01, 3.99863714e-04, 7.15261408e-03, 1.80148766e-02,\n",
              "        5.03316388e-02]])"
            ]
          },
          "metadata": {
            "tags": []
          },
          "execution_count": 110
        }
      ]
    },
    {
      "cell_type": "code",
      "metadata": {
        "id": "h56F5l2oIwZX",
        "outputId": "90964add-fef7-41e4-8da7-335024444681",
        "colab": {
          "base_uri": "https://localhost:8080/",
          "height": 411
        }
      },
      "source": [
        "# submission\n",
        "sample_submission[['0', '1', '2', '3', '4']] = pred\n",
        "sample_submission"
      ],
      "execution_count": 111,
      "outputs": [
        {
          "output_type": "execute_result",
          "data": {
            "text/html": [
              "<div>\n",
              "<style scoped>\n",
              "    .dataframe tbody tr th:only-of-type {\n",
              "        vertical-align: middle;\n",
              "    }\n",
              "\n",
              "    .dataframe tbody tr th {\n",
              "        vertical-align: top;\n",
              "    }\n",
              "\n",
              "    .dataframe thead th {\n",
              "        text-align: right;\n",
              "    }\n",
              "</style>\n",
              "<table border=\"1\" class=\"dataframe\">\n",
              "  <thead>\n",
              "    <tr style=\"text-align: right;\">\n",
              "      <th></th>\n",
              "      <th>index</th>\n",
              "      <th>0</th>\n",
              "      <th>1</th>\n",
              "      <th>2</th>\n",
              "      <th>3</th>\n",
              "      <th>4</th>\n",
              "    </tr>\n",
              "  </thead>\n",
              "  <tbody>\n",
              "    <tr>\n",
              "      <th>0</th>\n",
              "      <td>0</td>\n",
              "      <td>0.017042</td>\n",
              "      <td>0.247061</td>\n",
              "      <td>0.193445</td>\n",
              "      <td>0.535892</td>\n",
              "      <td>0.006559</td>\n",
              "    </tr>\n",
              "    <tr>\n",
              "      <th>1</th>\n",
              "      <td>1</td>\n",
              "      <td>0.058837</td>\n",
              "      <td>0.679358</td>\n",
              "      <td>0.003450</td>\n",
              "      <td>0.256035</td>\n",
              "      <td>0.002319</td>\n",
              "    </tr>\n",
              "    <tr>\n",
              "      <th>2</th>\n",
              "      <td>2</td>\n",
              "      <td>0.957170</td>\n",
              "      <td>0.000880</td>\n",
              "      <td>0.001521</td>\n",
              "      <td>0.013480</td>\n",
              "      <td>0.026950</td>\n",
              "    </tr>\n",
              "    <tr>\n",
              "      <th>3</th>\n",
              "      <td>3</td>\n",
              "      <td>0.003509</td>\n",
              "      <td>0.000002</td>\n",
              "      <td>0.988979</td>\n",
              "      <td>0.002932</td>\n",
              "      <td>0.004578</td>\n",
              "    </tr>\n",
              "    <tr>\n",
              "      <th>4</th>\n",
              "      <td>4</td>\n",
              "      <td>0.518082</td>\n",
              "      <td>0.010275</td>\n",
              "      <td>0.061406</td>\n",
              "      <td>0.393373</td>\n",
              "      <td>0.016864</td>\n",
              "    </tr>\n",
              "    <tr>\n",
              "      <th>...</th>\n",
              "      <td>...</td>\n",
              "      <td>...</td>\n",
              "      <td>...</td>\n",
              "      <td>...</td>\n",
              "      <td>...</td>\n",
              "      <td>...</td>\n",
              "    </tr>\n",
              "    <tr>\n",
              "      <th>19612</th>\n",
              "      <td>19612</td>\n",
              "      <td>0.005555</td>\n",
              "      <td>0.992445</td>\n",
              "      <td>0.000055</td>\n",
              "      <td>0.001011</td>\n",
              "      <td>0.000934</td>\n",
              "    </tr>\n",
              "    <tr>\n",
              "      <th>19613</th>\n",
              "      <td>19613</td>\n",
              "      <td>0.573064</td>\n",
              "      <td>0.017515</td>\n",
              "      <td>0.182178</td>\n",
              "      <td>0.012725</td>\n",
              "      <td>0.214518</td>\n",
              "    </tr>\n",
              "    <tr>\n",
              "      <th>19614</th>\n",
              "      <td>19614</td>\n",
              "      <td>0.011415</td>\n",
              "      <td>0.984924</td>\n",
              "      <td>0.000675</td>\n",
              "      <td>0.001812</td>\n",
              "      <td>0.001174</td>\n",
              "    </tr>\n",
              "    <tr>\n",
              "      <th>19615</th>\n",
              "      <td>19615</td>\n",
              "      <td>0.005943</td>\n",
              "      <td>0.987327</td>\n",
              "      <td>0.002287</td>\n",
              "      <td>0.004364</td>\n",
              "      <td>0.000080</td>\n",
              "    </tr>\n",
              "    <tr>\n",
              "      <th>19616</th>\n",
              "      <td>19616</td>\n",
              "      <td>0.924101</td>\n",
              "      <td>0.000400</td>\n",
              "      <td>0.007153</td>\n",
              "      <td>0.018015</td>\n",
              "      <td>0.050332</td>\n",
              "    </tr>\n",
              "  </tbody>\n",
              "</table>\n",
              "<p>19617 rows × 6 columns</p>\n",
              "</div>"
            ],
            "text/plain": [
              "       index         0         1         2         3         4\n",
              "0          0  0.017042  0.247061  0.193445  0.535892  0.006559\n",
              "1          1  0.058837  0.679358  0.003450  0.256035  0.002319\n",
              "2          2  0.957170  0.000880  0.001521  0.013480  0.026950\n",
              "3          3  0.003509  0.000002  0.988979  0.002932  0.004578\n",
              "4          4  0.518082  0.010275  0.061406  0.393373  0.016864\n",
              "...      ...       ...       ...       ...       ...       ...\n",
              "19612  19612  0.005555  0.992445  0.000055  0.001011  0.000934\n",
              "19613  19613  0.573064  0.017515  0.182178  0.012725  0.214518\n",
              "19614  19614  0.011415  0.984924  0.000675  0.001812  0.001174\n",
              "19615  19615  0.005943  0.987327  0.002287  0.004364  0.000080\n",
              "19616  19616  0.924101  0.000400  0.007153  0.018015  0.050332\n",
              "\n",
              "[19617 rows x 6 columns]"
            ]
          },
          "metadata": {
            "tags": []
          },
          "execution_count": 111
        }
      ]
    },
    {
      "cell_type": "code",
      "metadata": {
        "id": "dHe0M5tHIwQ4"
      },
      "source": [
        "sample_submission.to_csv('/content/drive/My Drive/Semi-project_01/submission_naiveBayes03.csv', index = False, encoding = 'utf-8')"
      ],
      "execution_count": 112,
      "outputs": []
    },
    {
      "cell_type": "code",
      "metadata": {
        "id": "I6f2dhi8S9fD"
      },
      "source": [
        ""
      ],
      "execution_count": null,
      "outputs": []
    }
  ]
}
