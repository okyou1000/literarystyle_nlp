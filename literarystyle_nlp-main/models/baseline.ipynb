{
 "cells": [
  {
   "cell_type": "code",
   "execution_count": 2,
   "metadata": {},
   "outputs": [],
   "source": [
    "import pandas as pd \n",
    "import warnings\n",
    "warnings.filterwarnings(action='ignore')\n",
    "import numpy as np\n",
    "import tensorflow as tf\n",
    "from tensorflow.keras.preprocessing.sequence import pad_sequences\n",
    "from tensorflow.keras.preprocessing.text import Tokenizer\n",
    "import re"
   ]
  },
  {
   "cell_type": "code",
   "execution_count": 8,
   "metadata": {},
   "outputs": [],
   "source": [
    "train=pd.read_csv(\"train.csv\", encoding='utf-8')\n",
    "test=pd.read_csv(\"test_x.csv\", encoding='utf-8')"
   ]
  },
  {
   "cell_type": "code",
   "execution_count": 4,
   "metadata": {},
   "outputs": [
    {
     "data": {
      "text/html": [
       "<div>\n",
       "<style scoped>\n",
       "    .dataframe tbody tr th:only-of-type {\n",
       "        vertical-align: middle;\n",
       "    }\n",
       "\n",
       "    .dataframe tbody tr th {\n",
       "        vertical-align: top;\n",
       "    }\n",
       "\n",
       "    .dataframe thead th {\n",
       "        text-align: right;\n",
       "    }\n",
       "</style>\n",
       "<table border=\"1\" class=\"dataframe\">\n",
       "  <thead>\n",
       "    <tr style=\"text-align: right;\">\n",
       "      <th></th>\n",
       "      <th>index</th>\n",
       "      <th>text</th>\n",
       "      <th>author</th>\n",
       "    </tr>\n",
       "  </thead>\n",
       "  <tbody>\n",
       "    <tr>\n",
       "      <th>0</th>\n",
       "      <td>0</td>\n",
       "      <td>He was almost choking. There was so much, so m...</td>\n",
       "      <td>3</td>\n",
       "    </tr>\n",
       "    <tr>\n",
       "      <th>1</th>\n",
       "      <td>1</td>\n",
       "      <td>“Your sister asked for it, I suppose?”</td>\n",
       "      <td>2</td>\n",
       "    </tr>\n",
       "    <tr>\n",
       "      <th>2</th>\n",
       "      <td>2</td>\n",
       "      <td>She was engaged one day as she walked, in per...</td>\n",
       "      <td>1</td>\n",
       "    </tr>\n",
       "    <tr>\n",
       "      <th>3</th>\n",
       "      <td>3</td>\n",
       "      <td>The captain was in the porch, keeping himself ...</td>\n",
       "      <td>4</td>\n",
       "    </tr>\n",
       "    <tr>\n",
       "      <th>4</th>\n",
       "      <td>4</td>\n",
       "      <td>“Have mercy, gentlemen!” odin flung up his han...</td>\n",
       "      <td>3</td>\n",
       "    </tr>\n",
       "    <tr>\n",
       "      <th>...</th>\n",
       "      <td>...</td>\n",
       "      <td>...</td>\n",
       "      <td>...</td>\n",
       "    </tr>\n",
       "    <tr>\n",
       "      <th>54874</th>\n",
       "      <td>54874</td>\n",
       "      <td>“Is that you, Mr. Smith?” odin whispered. “I h...</td>\n",
       "      <td>2</td>\n",
       "    </tr>\n",
       "    <tr>\n",
       "      <th>54875</th>\n",
       "      <td>54875</td>\n",
       "      <td>I told my plan to the captain, and between us ...</td>\n",
       "      <td>4</td>\n",
       "    </tr>\n",
       "    <tr>\n",
       "      <th>54876</th>\n",
       "      <td>54876</td>\n",
       "      <td>\"Your sincere well-wisher, friend, and sister...</td>\n",
       "      <td>1</td>\n",
       "    </tr>\n",
       "    <tr>\n",
       "      <th>54877</th>\n",
       "      <td>54877</td>\n",
       "      <td>“Then you wanted me to lend you money?”</td>\n",
       "      <td>3</td>\n",
       "    </tr>\n",
       "    <tr>\n",
       "      <th>54878</th>\n",
       "      <td>54878</td>\n",
       "      <td>It certainly had not occurred to me before, bu...</td>\n",
       "      <td>0</td>\n",
       "    </tr>\n",
       "  </tbody>\n",
       "</table>\n",
       "<p>54879 rows × 3 columns</p>\n",
       "</div>"
      ],
      "text/plain": [
       "       index                                               text  author\n",
       "0          0  He was almost choking. There was so much, so m...       3\n",
       "1          1             “Your sister asked for it, I suppose?”       2\n",
       "2          2   She was engaged one day as she walked, in per...       1\n",
       "3          3  The captain was in the porch, keeping himself ...       4\n",
       "4          4  “Have mercy, gentlemen!” odin flung up his han...       3\n",
       "...      ...                                                ...     ...\n",
       "54874  54874  “Is that you, Mr. Smith?” odin whispered. “I h...       2\n",
       "54875  54875  I told my plan to the captain, and between us ...       4\n",
       "54876  54876   \"Your sincere well-wisher, friend, and sister...       1\n",
       "54877  54877            “Then you wanted me to lend you money?”       3\n",
       "54878  54878  It certainly had not occurred to me before, bu...       0\n",
       "\n",
       "[54879 rows x 3 columns]"
      ]
     },
     "execution_count": 4,
     "metadata": {},
     "output_type": "execute_result"
    }
   ],
   "source": [
    "train"
   ]
  },
  {
   "cell_type": "code",
   "execution_count": 5,
   "metadata": {},
   "outputs": [
    {
     "data": {
      "text/html": [
       "<div>\n",
       "<style scoped>\n",
       "    .dataframe tbody tr th:only-of-type {\n",
       "        vertical-align: middle;\n",
       "    }\n",
       "\n",
       "    .dataframe tbody tr th {\n",
       "        vertical-align: top;\n",
       "    }\n",
       "\n",
       "    .dataframe thead th {\n",
       "        text-align: right;\n",
       "    }\n",
       "</style>\n",
       "<table border=\"1\" class=\"dataframe\">\n",
       "  <thead>\n",
       "    <tr style=\"text-align: right;\">\n",
       "      <th></th>\n",
       "      <th>index</th>\n",
       "      <th>text</th>\n",
       "    </tr>\n",
       "  </thead>\n",
       "  <tbody>\n",
       "    <tr>\n",
       "      <th>0</th>\n",
       "      <td>0</td>\n",
       "      <td>“Not at all. I think she is one of the most ch...</td>\n",
       "    </tr>\n",
       "    <tr>\n",
       "      <th>1</th>\n",
       "      <td>1</td>\n",
       "      <td>\"No,\" replied he, with sudden consciousness, \"...</td>\n",
       "    </tr>\n",
       "    <tr>\n",
       "      <th>2</th>\n",
       "      <td>2</td>\n",
       "      <td>As the lady had stated her intention of scream...</td>\n",
       "    </tr>\n",
       "    <tr>\n",
       "      <th>3</th>\n",
       "      <td>3</td>\n",
       "      <td>“And then suddenly in the silence I heard a so...</td>\n",
       "    </tr>\n",
       "    <tr>\n",
       "      <th>4</th>\n",
       "      <td>4</td>\n",
       "      <td>His conviction remained unchanged. So far as I...</td>\n",
       "    </tr>\n",
       "    <tr>\n",
       "      <th>...</th>\n",
       "      <td>...</td>\n",
       "      <td>...</td>\n",
       "    </tr>\n",
       "    <tr>\n",
       "      <th>19612</th>\n",
       "      <td>19612</td>\n",
       "      <td>At the end of another day or two, odin growing...</td>\n",
       "    </tr>\n",
       "    <tr>\n",
       "      <th>19613</th>\n",
       "      <td>19613</td>\n",
       "      <td>All afternoon we sat together, mostly in silen...</td>\n",
       "    </tr>\n",
       "    <tr>\n",
       "      <th>19614</th>\n",
       "      <td>19614</td>\n",
       "      <td>odin, having carried his thanks to odin, proc...</td>\n",
       "    </tr>\n",
       "    <tr>\n",
       "      <th>19615</th>\n",
       "      <td>19615</td>\n",
       "      <td>Soon after this, upon odin's leaving the room,...</td>\n",
       "    </tr>\n",
       "    <tr>\n",
       "      <th>19616</th>\n",
       "      <td>19616</td>\n",
       "      <td>And all the worse for the doomed man, that the...</td>\n",
       "    </tr>\n",
       "  </tbody>\n",
       "</table>\n",
       "<p>19617 rows × 2 columns</p>\n",
       "</div>"
      ],
      "text/plain": [
       "       index                                               text\n",
       "0          0  “Not at all. I think she is one of the most ch...\n",
       "1          1  \"No,\" replied he, with sudden consciousness, \"...\n",
       "2          2  As the lady had stated her intention of scream...\n",
       "3          3  “And then suddenly in the silence I heard a so...\n",
       "4          4  His conviction remained unchanged. So far as I...\n",
       "...      ...                                                ...\n",
       "19612  19612  At the end of another day or two, odin growing...\n",
       "19613  19613  All afternoon we sat together, mostly in silen...\n",
       "19614  19614   odin, having carried his thanks to odin, proc...\n",
       "19615  19615  Soon after this, upon odin's leaving the room,...\n",
       "19616  19616  And all the worse for the doomed man, that the...\n",
       "\n",
       "[19617 rows x 2 columns]"
      ]
     },
     "execution_count": 5,
     "metadata": {},
     "output_type": "execute_result"
    }
   ],
   "source": [
    "test"
   ]
  },
  {
   "cell_type": "code",
   "execution_count": 9,
   "metadata": {},
   "outputs": [],
   "source": [
    "def alpha_num(text):\n",
    "    return re.sub(r'[^A-Za-z0-9 ]','',text)\n",
    "\n",
    "train['text']=train['text'].apply(alpha_num)"
   ]
  },
  {
   "cell_type": "code",
   "execution_count": 10,
   "metadata": {},
   "outputs": [
    {
     "data": {
      "text/plain": [
       "0        He was almost choking There was so much so muc...\n",
       "1                       Your sister asked for it I suppose\n",
       "2         She was engaged one day as she walked in peru...\n",
       "3        The captain was in the porch keeping himself c...\n",
       "4        Have mercy gentlemen odin flung up his hands D...\n",
       "                               ...                        \n",
       "54874    Is that you Mr Smith odin whispered I hardly d...\n",
       "54875    I told my plan to the captain and between us w...\n",
       "54876     Your sincere wellwisher friend and sister LUC...\n",
       "54877                 Then you wanted me to lend you money\n",
       "54878    It certainly had not occurred to me before but...\n",
       "Name: text, Length: 54879, dtype: object"
      ]
     },
     "execution_count": 10,
     "metadata": {},
     "output_type": "execute_result"
    }
   ],
   "source": [
    "train['text']"
   ]
  },
  {
   "cell_type": "code",
   "execution_count": 11,
   "metadata": {},
   "outputs": [],
   "source": [
    "def remove_stopwords(text):\n",
    "    final_text=[]\n",
    "    for i in text.split():\n",
    "        if i.strip().lower() not in stopwords:\n",
    "            final_text.append(i.strip())\n",
    "    return \" \".join(final_text)\n",
    "\n",
    "stopwords=[ \"a\", \"about\", \"above\", \"after\", \"again\", \"against\", \"all\", \"am\", \"an\", \"and\", \"any\", \"are\", \"as\", \n",
    "             \"at\", \"be\", \"because\", \"been\", \"before\", \"being\", \"below\", \"between\", \"both\", \"but\", \"by\", \"could\", \n",
    "             \"did\", \"do\", \"does\", \"doing\", \"down\", \"during\", \"each\", \"few\", \"for\", \"from\", \"further\", \"had\", \"has\", \n",
    "             \"have\", \"having\", \"he\", \"he'd\", \"he'll\", \"he's\", \"her\", \"here\", \"here's\", \"hers\", \"herself\", \"him\", \"himself\", \n",
    "             \"his\", \"how\", \"how's\", \"i\", \"i'd\", \"i'll\", \"i'm\", \"i've\", \"if\", \"in\", \"into\", \"is\", \"it\", \"it's\", \"its\", \"itself\", \n",
    "             \"let's\", \"me\", \"more\", \"most\", \"my\", \"myself\", \"nor\", \"of\", \"on\", \"once\", \"only\", \"or\", \"other\", \"ought\", \"our\", \"ours\", \n",
    "             \"ourselves\", \"out\", \"over\", \"own\", \"same\", \"she\", \"she'd\", \"she'll\", \"she's\", \"should\", \"so\", \"some\", \"such\", \"than\", \"that\", \n",
    "             \"that's\", \"the\", \"their\", \"theirs\", \"them\", \"themselves\", \"then\", \"there\", \"there's\", \"these\", \"they\", \"they'd\", \"they'll\", \n",
    "             \"they're\", \"they've\", \"this\", \"those\", \"through\", \"to\", \"too\", \"under\", \"until\", \"up\", \"very\", \"was\", \"we\", \"we'd\", \"we'll\", \n",
    "             \"we're\", \"we've\", \"were\", \"what\", \"what's\", \"when\", \"when's\", \"where\", \"where's\", \"which\", \"while\", \"who\", \"who's\", \"whom\", \n",
    "             \"why\", \"why's\", \"with\", \"would\", \"you\", \"you'd\", \"you'll\", \"you're\", \"you've\", \"your\", \"yours\", \"yourself\", \"yourselves\" ]"
   ]
  },
  {
   "cell_type": "code",
   "execution_count": 12,
   "metadata": {},
   "outputs": [],
   "source": [
    "train['text']=train['text'].str.lower()\n",
    "test['text']=test['text'].str.lower()\n",
    "train['text']=train['text'].apply(alpha_num).apply(remove_stopwords)\n",
    "test['text']=test['text'].apply(alpha_num).apply(remove_stopwords)"
   ]
  },
  {
   "cell_type": "code",
   "execution_count": 13,
   "metadata": {},
   "outputs": [
    {
     "data": {
      "text/plain": [
       "array(['almost choking much much wanted say strange exclamations came lips pole gazed fixedly bundle notes hand looked odin evident perplexity',\n",
       "       'sister asked suppose',\n",
       "       'engaged one day walked perusing janes last letter dwelling passages proved jane not written spirits instead surprised mr odin saw looking odin meeting putting away letter immediately forcing smile said',\n",
       "       ..., 'sincere wellwisher friend sister lucy odin',\n",
       "       'wanted lend money', 'certainly not occurred said yes like'],\n",
       "      dtype='<U1433')"
      ]
     },
     "execution_count": 13,
     "metadata": {},
     "output_type": "execute_result"
    }
   ],
   "source": [
    "X_train=np.array([x for x in train['text']])\n",
    "X_test=np.array([x for x in test['text']])\n",
    "Y_train=np.array([x for x in train['author']])\n",
    "X_train"
   ]
  },
  {
   "cell_type": "code",
   "execution_count": 14,
   "metadata": {},
   "outputs": [],
   "source": [
    "vocab_size=20000\n",
    "embedding_dim=16\n",
    "max_length=500\n",
    "padding_type='post'"
   ]
  },
  {
   "cell_type": "code",
   "execution_count": 15,
   "metadata": {},
   "outputs": [],
   "source": [
    "tokenizer=Tokenizer(num_words=vocab_size)\n",
    "tokenizer.fit_on_texts(X_train)\n",
    "word_index=tokenizer.word_index"
   ]
  },
  {
   "cell_type": "code",
   "execution_count": 16,
   "metadata": {},
   "outputs": [],
   "source": [
    "train_sequences=tokenizer.texts_to_sequences(X_train)\n",
    "train_padded=pad_sequences(train_sequences, padding=padding_type, maxlen=max_length)\n",
    "test_sequences=tokenizer.texts_to_sequences(X_test)\n",
    "test_padded=pad_sequences(test_sequences, padding=padding_type, maxlen=max_length)"
   ]
  },
  {
   "cell_type": "code",
   "execution_count": 17,
   "metadata": {},
   "outputs": [],
   "source": [
    "model=tf.keras.Sequential([\n",
    "    tf.keras.layers.Embedding(vocab_size, embedding_dim, input_length=max_length),\n",
    "    tf.keras.layers.GlobalAveragePooling1D(),\n",
    "    tf.keras.layers.Dense(24, activation='relu'),\n",
    "    tf.keras.layers.Dense(5, activation='softmax')\n",
    "])"
   ]
  },
  {
   "cell_type": "code",
   "execution_count": 22,
   "metadata": {},
   "outputs": [
    {
     "name": "stdout",
     "output_type": "stream",
     "text": [
      "Model: \"sequential\"\n",
      "_________________________________________________________________\n",
      "Layer (type)                 Output Shape              Param #   \n",
      "=================================================================\n",
      "embedding (Embedding)        (None, 500, 16)           320000    \n",
      "_________________________________________________________________\n",
      "global_average_pooling1d (Gl (None, 16)                0         \n",
      "_________________________________________________________________\n",
      "dense (Dense)                (None, 24)                408       \n",
      "_________________________________________________________________\n",
      "dense_1 (Dense)              (None, 5)                 125       \n",
      "=================================================================\n",
      "Total params: 320,533\n",
      "Trainable params: 320,533\n",
      "Non-trainable params: 0\n",
      "_________________________________________________________________\n",
      "None\n"
     ]
    }
   ],
   "source": [
    "model.compile(loss='sparse_categorical_crossentropy',\n",
    "              optimizer='adam',\n",
    "              metrics=['accuracy'])\n",
    "print(model.summary())"
   ]
  },
  {
   "cell_type": "code",
   "execution_count": 23,
   "metadata": {
    "scrolled": false
   },
   "outputs": [
    {
     "name": "stdout",
     "output_type": "stream",
     "text": [
      "Epoch 1/20\n",
      "1372/1372 - 9s - loss: 1.5641 - accuracy: 0.2774 - val_loss: 1.5375 - val_accuracy: 0.2759\n",
      "Epoch 2/20\n",
      "1372/1372 - 8s - loss: 1.3914 - accuracy: 0.4216 - val_loss: 1.2569 - val_accuracy: 0.4774\n",
      "Epoch 3/20\n",
      "1372/1372 - 8s - loss: 1.1648 - accuracy: 0.5280 - val_loss: 1.1319 - val_accuracy: 0.5459\n",
      "Epoch 4/20\n",
      "1372/1372 - 8s - loss: 1.0456 - accuracy: 0.5926 - val_loss: 1.0509 - val_accuracy: 0.5765\n",
      "Epoch 5/20\n",
      "1372/1372 - 8s - loss: 0.9519 - accuracy: 0.6295 - val_loss: 0.9699 - val_accuracy: 0.6251\n",
      "Epoch 6/20\n",
      "1372/1372 - 8s - loss: 0.8768 - accuracy: 0.6629 - val_loss: 0.9149 - val_accuracy: 0.6505\n",
      "Epoch 7/20\n",
      "1372/1372 - 8s - loss: 0.8134 - accuracy: 0.6916 - val_loss: 0.9030 - val_accuracy: 0.6554\n",
      "Epoch 8/20\n",
      "1372/1372 - 8s - loss: 0.7610 - accuracy: 0.7143 - val_loss: 0.8430 - val_accuracy: 0.6797\n",
      "Epoch 9/20\n",
      "1372/1372 - 8s - loss: 0.7174 - accuracy: 0.7333 - val_loss: 0.8268 - val_accuracy: 0.6901\n",
      "Epoch 10/20\n",
      "1372/1372 - 8s - loss: 0.6781 - accuracy: 0.7501 - val_loss: 0.8245 - val_accuracy: 0.6797\n",
      "Epoch 11/20\n",
      "1372/1372 - 8s - loss: 0.6430 - accuracy: 0.7644 - val_loss: 0.8106 - val_accuracy: 0.6950\n",
      "Epoch 12/20\n",
      "1372/1372 - 8s - loss: 0.6151 - accuracy: 0.7754 - val_loss: 0.7929 - val_accuracy: 0.7018\n",
      "Epoch 13/20\n",
      "1372/1372 - 8s - loss: 0.5876 - accuracy: 0.7872 - val_loss: 0.7949 - val_accuracy: 0.7041\n",
      "Epoch 14/20\n",
      "1372/1372 - 8s - loss: 0.5644 - accuracy: 0.7949 - val_loss: 0.7752 - val_accuracy: 0.7115\n",
      "Epoch 15/20\n",
      "1372/1372 - 8s - loss: 0.5443 - accuracy: 0.8022 - val_loss: 0.7733 - val_accuracy: 0.7155\n",
      "Epoch 16/20\n",
      "1372/1372 - 8s - loss: 0.5245 - accuracy: 0.8094 - val_loss: 0.7688 - val_accuracy: 0.7171\n",
      "Epoch 17/20\n",
      "1372/1372 - 8s - loss: 0.5080 - accuracy: 0.8144 - val_loss: 0.7719 - val_accuracy: 0.7163\n",
      "Epoch 18/20\n",
      "1372/1372 - 8s - loss: 0.4932 - accuracy: 0.8203 - val_loss: 0.7734 - val_accuracy: 0.7184\n",
      "Epoch 19/20\n",
      "1372/1372 - 8s - loss: 0.4795 - accuracy: 0.8263 - val_loss: 0.7778 - val_accuracy: 0.7184\n",
      "Epoch 20/20\n",
      "1372/1372 - 8s - loss: 0.4655 - accuracy: 0.8302 - val_loss: 0.8024 - val_accuracy: 0.7125\n"
     ]
    }
   ],
   "source": [
    "num_epochs = 20\n",
    "history = model.fit(train_padded, Y_train, \n",
    "                    epochs=num_epochs, verbose=2, \n",
    "                    validation_split=0.2)"
   ]
  },
  {
   "cell_type": "code",
   "execution_count": 24,
   "metadata": {},
   "outputs": [
    {
     "name": "stdout",
     "output_type": "stream",
     "text": [
      "WARNING:tensorflow:From <ipython-input-24-0466df0765dd>:1: Sequential.predict_proba (from tensorflow.python.keras.engine.sequential) is deprecated and will be removed after 2021-01-01.\n",
      "Instructions for updating:\n",
      "Please use `model.predict()` instead.\n"
     ]
    }
   ],
   "source": [
    "pred=model.predict_proba(test_padded)"
   ]
  },
  {
   "cell_type": "code",
   "execution_count": 25,
   "metadata": {},
   "outputs": [
    {
     "data": {
      "text/plain": [
       "array([[1.4055325e-05, 9.7361517e-01, 1.2707669e-02, 1.3642066e-02,\n",
       "        2.1081298e-05],\n",
       "       [3.8599399e-01, 3.6940590e-01, 8.1040360e-02, 2.7621191e-02,\n",
       "        1.3593851e-01],\n",
       "       [9.9727005e-01, 1.8901030e-06, 2.9401818e-08, 2.0591457e-08,\n",
       "        2.7280634e-03],\n",
       "       ...,\n",
       "       [4.9096131e-04, 9.9949861e-01, 5.2584892e-07, 8.0052159e-06,\n",
       "        1.9319948e-06],\n",
       "       [1.3552414e-04, 9.9985874e-01, 1.1870093e-06, 1.0288729e-06,\n",
       "        3.4828572e-06],\n",
       "       [9.8929977e-01, 1.8735145e-07, 2.3299593e-07, 1.4447701e-07,\n",
       "        1.0699711e-02]], dtype=float32)"
      ]
     },
     "execution_count": 25,
     "metadata": {},
     "output_type": "execute_result"
    }
   ],
   "source": [
    "pred"
   ]
  },
  {
   "cell_type": "code",
   "execution_count": 26,
   "metadata": {},
   "outputs": [],
   "source": [
    "sample_submission=pd.read_csv(\"sample_submission.csv\", encoding='utf-8')"
   ]
  },
  {
   "cell_type": "code",
   "execution_count": 27,
   "metadata": {},
   "outputs": [
    {
     "data": {
      "text/html": [
       "<div>\n",
       "<style scoped>\n",
       "    .dataframe tbody tr th:only-of-type {\n",
       "        vertical-align: middle;\n",
       "    }\n",
       "\n",
       "    .dataframe tbody tr th {\n",
       "        vertical-align: top;\n",
       "    }\n",
       "\n",
       "    .dataframe thead th {\n",
       "        text-align: right;\n",
       "    }\n",
       "</style>\n",
       "<table border=\"1\" class=\"dataframe\">\n",
       "  <thead>\n",
       "    <tr style=\"text-align: right;\">\n",
       "      <th></th>\n",
       "      <th>index</th>\n",
       "      <th>0</th>\n",
       "      <th>1</th>\n",
       "      <th>2</th>\n",
       "      <th>3</th>\n",
       "      <th>4</th>\n",
       "    </tr>\n",
       "  </thead>\n",
       "  <tbody>\n",
       "    <tr>\n",
       "      <th>0</th>\n",
       "      <td>0</td>\n",
       "      <td>0.000014</td>\n",
       "      <td>9.736152e-01</td>\n",
       "      <td>1.270767e-02</td>\n",
       "      <td>1.364207e-02</td>\n",
       "      <td>2.108130e-05</td>\n",
       "    </tr>\n",
       "    <tr>\n",
       "      <th>1</th>\n",
       "      <td>1</td>\n",
       "      <td>0.385994</td>\n",
       "      <td>3.694059e-01</td>\n",
       "      <td>8.104036e-02</td>\n",
       "      <td>2.762119e-02</td>\n",
       "      <td>1.359385e-01</td>\n",
       "    </tr>\n",
       "    <tr>\n",
       "      <th>2</th>\n",
       "      <td>2</td>\n",
       "      <td>0.997270</td>\n",
       "      <td>1.890103e-06</td>\n",
       "      <td>2.940182e-08</td>\n",
       "      <td>2.059146e-08</td>\n",
       "      <td>2.728063e-03</td>\n",
       "    </tr>\n",
       "    <tr>\n",
       "      <th>3</th>\n",
       "      <td>3</td>\n",
       "      <td>0.000007</td>\n",
       "      <td>5.683448e-09</td>\n",
       "      <td>6.727761e-01</td>\n",
       "      <td>3.722217e-07</td>\n",
       "      <td>3.272162e-01</td>\n",
       "    </tr>\n",
       "    <tr>\n",
       "      <th>4</th>\n",
       "      <td>4</td>\n",
       "      <td>0.968405</td>\n",
       "      <td>5.021131e-04</td>\n",
       "      <td>1.466467e-04</td>\n",
       "      <td>2.696855e-02</td>\n",
       "      <td>3.977724e-03</td>\n",
       "    </tr>\n",
       "    <tr>\n",
       "      <th>...</th>\n",
       "      <td>...</td>\n",
       "      <td>...</td>\n",
       "      <td>...</td>\n",
       "      <td>...</td>\n",
       "      <td>...</td>\n",
       "      <td>...</td>\n",
       "    </tr>\n",
       "    <tr>\n",
       "      <th>19612</th>\n",
       "      <td>19612</td>\n",
       "      <td>0.000003</td>\n",
       "      <td>9.999967e-01</td>\n",
       "      <td>1.014192e-14</td>\n",
       "      <td>4.605000e-10</td>\n",
       "      <td>1.367482e-12</td>\n",
       "    </tr>\n",
       "    <tr>\n",
       "      <th>19613</th>\n",
       "      <td>19613</td>\n",
       "      <td>0.142574</td>\n",
       "      <td>8.062541e-08</td>\n",
       "      <td>5.921751e-06</td>\n",
       "      <td>3.114999e-11</td>\n",
       "      <td>8.574200e-01</td>\n",
       "    </tr>\n",
       "    <tr>\n",
       "      <th>19614</th>\n",
       "      <td>19614</td>\n",
       "      <td>0.000491</td>\n",
       "      <td>9.994986e-01</td>\n",
       "      <td>5.258489e-07</td>\n",
       "      <td>8.005216e-06</td>\n",
       "      <td>1.931995e-06</td>\n",
       "    </tr>\n",
       "    <tr>\n",
       "      <th>19615</th>\n",
       "      <td>19615</td>\n",
       "      <td>0.000136</td>\n",
       "      <td>9.998587e-01</td>\n",
       "      <td>1.187009e-06</td>\n",
       "      <td>1.028873e-06</td>\n",
       "      <td>3.482857e-06</td>\n",
       "    </tr>\n",
       "    <tr>\n",
       "      <th>19616</th>\n",
       "      <td>19616</td>\n",
       "      <td>0.989300</td>\n",
       "      <td>1.873514e-07</td>\n",
       "      <td>2.329959e-07</td>\n",
       "      <td>1.444770e-07</td>\n",
       "      <td>1.069971e-02</td>\n",
       "    </tr>\n",
       "  </tbody>\n",
       "</table>\n",
       "<p>19617 rows × 6 columns</p>\n",
       "</div>"
      ],
      "text/plain": [
       "       index         0             1             2             3             4\n",
       "0          0  0.000014  9.736152e-01  1.270767e-02  1.364207e-02  2.108130e-05\n",
       "1          1  0.385994  3.694059e-01  8.104036e-02  2.762119e-02  1.359385e-01\n",
       "2          2  0.997270  1.890103e-06  2.940182e-08  2.059146e-08  2.728063e-03\n",
       "3          3  0.000007  5.683448e-09  6.727761e-01  3.722217e-07  3.272162e-01\n",
       "4          4  0.968405  5.021131e-04  1.466467e-04  2.696855e-02  3.977724e-03\n",
       "...      ...       ...           ...           ...           ...           ...\n",
       "19612  19612  0.000003  9.999967e-01  1.014192e-14  4.605000e-10  1.367482e-12\n",
       "19613  19613  0.142574  8.062541e-08  5.921751e-06  3.114999e-11  8.574200e-01\n",
       "19614  19614  0.000491  9.994986e-01  5.258489e-07  8.005216e-06  1.931995e-06\n",
       "19615  19615  0.000136  9.998587e-01  1.187009e-06  1.028873e-06  3.482857e-06\n",
       "19616  19616  0.989300  1.873514e-07  2.329959e-07  1.444770e-07  1.069971e-02\n",
       "\n",
       "[19617 rows x 6 columns]"
      ]
     },
     "execution_count": 27,
     "metadata": {},
     "output_type": "execute_result"
    }
   ],
   "source": [
    "sample_submission[['0','1','2','3','4']]=pred\n",
    "sample_submission"
   ]
  },
  {
   "cell_type": "code",
   "execution_count": 28,
   "metadata": {},
   "outputs": [],
   "source": [
    "sample_submission.to_csv('submission.csv', index=False, encoding='utf-8')"
   ]
  }
 ],
 "metadata": {
  "kernelspec": {
   "display_name": "Python 3",
   "language": "python",
   "name": "python3"
  },
  "language_info": {
   "codemirror_mode": {
    "name": "ipython",
    "version": 3
   },
   "file_extension": ".py",
   "mimetype": "text/x-python",
   "name": "python",
   "nbconvert_exporter": "python",
   "pygments_lexer": "ipython3",
   "version": "3.7.6"
  }
 },
 "nbformat": 4,
 "nbformat_minor": 2
}
