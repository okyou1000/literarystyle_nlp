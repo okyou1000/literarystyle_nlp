{
  "nbformat": 4,
  "nbformat_minor": 0,
  "metadata": {
    "colab": {
      "name": "dacon10.ipynb의 사본",
      "provenance": [],
      "collapsed_sections": []
    },
    "kernelspec": {
      "name": "python3",
      "display_name": "Python 3"
    }
  },
  "cells": [
    {
      "cell_type": "code",
      "metadata": {
        "id": "TfQo3zA_Ojru"
      },
      "source": [
        "from google.colab import drive\n",
        "drive.mount('/content/drive')"
      ],
      "execution_count": null,
      "outputs": []
    },
    {
      "cell_type": "markdown",
      "metadata": {
        "id": "j66ocePgSJPK"
      },
      "source": [
        ""
      ]
    },
    {
      "cell_type": "code",
      "metadata": {
        "id": "6pJWYkH3DK_G"
      },
      "source": [
        "import pandas as pd\n",
        "import warnings \n",
        "warnings.filterwarnings(action='ignore')\n",
        "import numpy as np\n",
        "import tensorflow as tf\n",
        "from tensorflow.keras.preprocessing.sequence import pad_sequences\n",
        "from tensorflow.keras.preprocessing.text import Tokenizer\n",
        "import re"
      ],
      "execution_count": null,
      "outputs": []
    },
    {
      "cell_type": "code",
      "metadata": {
        "id": "6yBQ1M9_D29S"
      },
      "source": [
        "#파일 불러오기\n",
        "train = pd.read_csv('/content/drive/My Drive/deepL/natural/train.csv', encoding = 'utf-8')\n",
        "test = pd.read_csv('/content/drive/My Drive/deepL/natural/test_x.csv', encoding = 'utf-8')\n",
        "sample_submission = pd.read_csv('/content/drive/My Drive/deepL/natural/sample_submission.csv', encoding ='utf-8')"
      ],
      "execution_count": null,
      "outputs": []
    },
    {
      "cell_type": "code",
      "metadata": {
        "id": "huMbk2_ND8UT",
        "outputId": "2c803766-cfb8-4bbc-97d8-5faab6f2b52c",
        "colab": {
          "base_uri": "https://localhost:8080/",
          "height": 399
        }
      },
      "source": [
        "# train data 살펴보기\n",
        "train"
      ],
      "execution_count": null,
      "outputs": [
        {
          "output_type": "execute_result",
          "data": {
            "text/html": [
              "<div>\n",
              "<style scoped>\n",
              "    .dataframe tbody tr th:only-of-type {\n",
              "        vertical-align: middle;\n",
              "    }\n",
              "\n",
              "    .dataframe tbody tr th {\n",
              "        vertical-align: top;\n",
              "    }\n",
              "\n",
              "    .dataframe thead th {\n",
              "        text-align: right;\n",
              "    }\n",
              "</style>\n",
              "<table border=\"1\" class=\"dataframe\">\n",
              "  <thead>\n",
              "    <tr style=\"text-align: right;\">\n",
              "      <th></th>\n",
              "      <th>index</th>\n",
              "      <th>text</th>\n",
              "      <th>author</th>\n",
              "    </tr>\n",
              "  </thead>\n",
              "  <tbody>\n",
              "    <tr>\n",
              "      <th>0</th>\n",
              "      <td>0</td>\n",
              "      <td>He was almost choking. There was so much, so m...</td>\n",
              "      <td>3</td>\n",
              "    </tr>\n",
              "    <tr>\n",
              "      <th>1</th>\n",
              "      <td>1</td>\n",
              "      <td>“Your sister asked for it, I suppose?”</td>\n",
              "      <td>2</td>\n",
              "    </tr>\n",
              "    <tr>\n",
              "      <th>2</th>\n",
              "      <td>2</td>\n",
              "      <td>She was engaged one day as she walked, in per...</td>\n",
              "      <td>1</td>\n",
              "    </tr>\n",
              "    <tr>\n",
              "      <th>3</th>\n",
              "      <td>3</td>\n",
              "      <td>The captain was in the porch, keeping himself ...</td>\n",
              "      <td>4</td>\n",
              "    </tr>\n",
              "    <tr>\n",
              "      <th>4</th>\n",
              "      <td>4</td>\n",
              "      <td>“Have mercy, gentlemen!” odin flung up his han...</td>\n",
              "      <td>3</td>\n",
              "    </tr>\n",
              "    <tr>\n",
              "      <th>...</th>\n",
              "      <td>...</td>\n",
              "      <td>...</td>\n",
              "      <td>...</td>\n",
              "    </tr>\n",
              "    <tr>\n",
              "      <th>54874</th>\n",
              "      <td>54874</td>\n",
              "      <td>“Is that you, Mr. Smith?” odin whispered. “I h...</td>\n",
              "      <td>2</td>\n",
              "    </tr>\n",
              "    <tr>\n",
              "      <th>54875</th>\n",
              "      <td>54875</td>\n",
              "      <td>I told my plan to the captain, and between us ...</td>\n",
              "      <td>4</td>\n",
              "    </tr>\n",
              "    <tr>\n",
              "      <th>54876</th>\n",
              "      <td>54876</td>\n",
              "      <td>\"Your sincere well-wisher, friend, and sister...</td>\n",
              "      <td>1</td>\n",
              "    </tr>\n",
              "    <tr>\n",
              "      <th>54877</th>\n",
              "      <td>54877</td>\n",
              "      <td>“Then you wanted me to lend you money?”</td>\n",
              "      <td>3</td>\n",
              "    </tr>\n",
              "    <tr>\n",
              "      <th>54878</th>\n",
              "      <td>54878</td>\n",
              "      <td>It certainly had not occurred to me before, bu...</td>\n",
              "      <td>0</td>\n",
              "    </tr>\n",
              "  </tbody>\n",
              "</table>\n",
              "<p>54879 rows × 3 columns</p>\n",
              "</div>"
            ],
            "text/plain": [
              "       index                                               text  author\n",
              "0          0  He was almost choking. There was so much, so m...       3\n",
              "1          1             “Your sister asked for it, I suppose?”       2\n",
              "2          2   She was engaged one day as she walked, in per...       1\n",
              "3          3  The captain was in the porch, keeping himself ...       4\n",
              "4          4  “Have mercy, gentlemen!” odin flung up his han...       3\n",
              "...      ...                                                ...     ...\n",
              "54874  54874  “Is that you, Mr. Smith?” odin whispered. “I h...       2\n",
              "54875  54875  I told my plan to the captain, and between us ...       4\n",
              "54876  54876   \"Your sincere well-wisher, friend, and sister...       1\n",
              "54877  54877            “Then you wanted me to lend you money?”       3\n",
              "54878  54878  It certainly had not occurred to me before, bu...       0\n",
              "\n",
              "[54879 rows x 3 columns]"
            ]
          },
          "metadata": {
            "tags": []
          },
          "execution_count": 5
        }
      ]
    },
    {
      "cell_type": "code",
      "metadata": {
        "id": "kVo0eULWEDrV",
        "outputId": "5e17c67b-46db-46ec-e701-4ffff94b4b11",
        "colab": {
          "base_uri": "https://localhost:8080/",
          "height": 399
        }
      },
      "source": [
        "#test 데이터 살펴보기\n",
        "test"
      ],
      "execution_count": null,
      "outputs": [
        {
          "output_type": "execute_result",
          "data": {
            "text/html": [
              "<div>\n",
              "<style scoped>\n",
              "    .dataframe tbody tr th:only-of-type {\n",
              "        vertical-align: middle;\n",
              "    }\n",
              "\n",
              "    .dataframe tbody tr th {\n",
              "        vertical-align: top;\n",
              "    }\n",
              "\n",
              "    .dataframe thead th {\n",
              "        text-align: right;\n",
              "    }\n",
              "</style>\n",
              "<table border=\"1\" class=\"dataframe\">\n",
              "  <thead>\n",
              "    <tr style=\"text-align: right;\">\n",
              "      <th></th>\n",
              "      <th>index</th>\n",
              "      <th>text</th>\n",
              "    </tr>\n",
              "  </thead>\n",
              "  <tbody>\n",
              "    <tr>\n",
              "      <th>0</th>\n",
              "      <td>0</td>\n",
              "      <td>“Not at all. I think she is one of the most ch...</td>\n",
              "    </tr>\n",
              "    <tr>\n",
              "      <th>1</th>\n",
              "      <td>1</td>\n",
              "      <td>\"No,\" replied he, with sudden consciousness, \"...</td>\n",
              "    </tr>\n",
              "    <tr>\n",
              "      <th>2</th>\n",
              "      <td>2</td>\n",
              "      <td>As the lady had stated her intention of scream...</td>\n",
              "    </tr>\n",
              "    <tr>\n",
              "      <th>3</th>\n",
              "      <td>3</td>\n",
              "      <td>“And then suddenly in the silence I heard a so...</td>\n",
              "    </tr>\n",
              "    <tr>\n",
              "      <th>4</th>\n",
              "      <td>4</td>\n",
              "      <td>His conviction remained unchanged. So far as I...</td>\n",
              "    </tr>\n",
              "    <tr>\n",
              "      <th>...</th>\n",
              "      <td>...</td>\n",
              "      <td>...</td>\n",
              "    </tr>\n",
              "    <tr>\n",
              "      <th>19612</th>\n",
              "      <td>19612</td>\n",
              "      <td>At the end of another day or two, odin growing...</td>\n",
              "    </tr>\n",
              "    <tr>\n",
              "      <th>19613</th>\n",
              "      <td>19613</td>\n",
              "      <td>All afternoon we sat together, mostly in silen...</td>\n",
              "    </tr>\n",
              "    <tr>\n",
              "      <th>19614</th>\n",
              "      <td>19614</td>\n",
              "      <td>odin, having carried his thanks to odin, proc...</td>\n",
              "    </tr>\n",
              "    <tr>\n",
              "      <th>19615</th>\n",
              "      <td>19615</td>\n",
              "      <td>Soon after this, upon odin's leaving the room,...</td>\n",
              "    </tr>\n",
              "    <tr>\n",
              "      <th>19616</th>\n",
              "      <td>19616</td>\n",
              "      <td>And all the worse for the doomed man, that the...</td>\n",
              "    </tr>\n",
              "  </tbody>\n",
              "</table>\n",
              "<p>19617 rows × 2 columns</p>\n",
              "</div>"
            ],
            "text/plain": [
              "       index                                               text\n",
              "0          0  “Not at all. I think she is one of the most ch...\n",
              "1          1  \"No,\" replied he, with sudden consciousness, \"...\n",
              "2          2  As the lady had stated her intention of scream...\n",
              "3          3  “And then suddenly in the silence I heard a so...\n",
              "4          4  His conviction remained unchanged. So far as I...\n",
              "...      ...                                                ...\n",
              "19612  19612  At the end of another day or two, odin growing...\n",
              "19613  19613  All afternoon we sat together, mostly in silen...\n",
              "19614  19614   odin, having carried his thanks to odin, proc...\n",
              "19615  19615  Soon after this, upon odin's leaving the room,...\n",
              "19616  19616  And all the worse for the doomed man, that the...\n",
              "\n",
              "[19617 rows x 2 columns]"
            ]
          },
          "metadata": {
            "tags": []
          },
          "execution_count": 28
        }
      ]
    },
    {
      "cell_type": "code",
      "metadata": {
        "id": "NAW-b06VEHN5",
        "outputId": "62160ddc-d9e1-40a2-a83d-fbf6cb80fd5b",
        "colab": {
          "base_uri": "https://localhost:8080/",
          "height": 399
        }
      },
      "source": [
        "#sample_submission\n",
        "sample_submission"
      ],
      "execution_count": null,
      "outputs": [
        {
          "output_type": "execute_result",
          "data": {
            "text/html": [
              "<div>\n",
              "<style scoped>\n",
              "    .dataframe tbody tr th:only-of-type {\n",
              "        vertical-align: middle;\n",
              "    }\n",
              "\n",
              "    .dataframe tbody tr th {\n",
              "        vertical-align: top;\n",
              "    }\n",
              "\n",
              "    .dataframe thead th {\n",
              "        text-align: right;\n",
              "    }\n",
              "</style>\n",
              "<table border=\"1\" class=\"dataframe\">\n",
              "  <thead>\n",
              "    <tr style=\"text-align: right;\">\n",
              "      <th></th>\n",
              "      <th>index</th>\n",
              "      <th>0</th>\n",
              "      <th>1</th>\n",
              "      <th>2</th>\n",
              "      <th>3</th>\n",
              "      <th>4</th>\n",
              "    </tr>\n",
              "  </thead>\n",
              "  <tbody>\n",
              "    <tr>\n",
              "      <th>0</th>\n",
              "      <td>0</td>\n",
              "      <td>0</td>\n",
              "      <td>0</td>\n",
              "      <td>0</td>\n",
              "      <td>0</td>\n",
              "      <td>0</td>\n",
              "    </tr>\n",
              "    <tr>\n",
              "      <th>1</th>\n",
              "      <td>1</td>\n",
              "      <td>0</td>\n",
              "      <td>0</td>\n",
              "      <td>0</td>\n",
              "      <td>0</td>\n",
              "      <td>0</td>\n",
              "    </tr>\n",
              "    <tr>\n",
              "      <th>2</th>\n",
              "      <td>2</td>\n",
              "      <td>0</td>\n",
              "      <td>0</td>\n",
              "      <td>0</td>\n",
              "      <td>0</td>\n",
              "      <td>0</td>\n",
              "    </tr>\n",
              "    <tr>\n",
              "      <th>3</th>\n",
              "      <td>3</td>\n",
              "      <td>0</td>\n",
              "      <td>0</td>\n",
              "      <td>0</td>\n",
              "      <td>0</td>\n",
              "      <td>0</td>\n",
              "    </tr>\n",
              "    <tr>\n",
              "      <th>4</th>\n",
              "      <td>4</td>\n",
              "      <td>0</td>\n",
              "      <td>0</td>\n",
              "      <td>0</td>\n",
              "      <td>0</td>\n",
              "      <td>0</td>\n",
              "    </tr>\n",
              "    <tr>\n",
              "      <th>...</th>\n",
              "      <td>...</td>\n",
              "      <td>...</td>\n",
              "      <td>...</td>\n",
              "      <td>...</td>\n",
              "      <td>...</td>\n",
              "      <td>...</td>\n",
              "    </tr>\n",
              "    <tr>\n",
              "      <th>19612</th>\n",
              "      <td>19612</td>\n",
              "      <td>0</td>\n",
              "      <td>0</td>\n",
              "      <td>0</td>\n",
              "      <td>0</td>\n",
              "      <td>0</td>\n",
              "    </tr>\n",
              "    <tr>\n",
              "      <th>19613</th>\n",
              "      <td>19613</td>\n",
              "      <td>0</td>\n",
              "      <td>0</td>\n",
              "      <td>0</td>\n",
              "      <td>0</td>\n",
              "      <td>0</td>\n",
              "    </tr>\n",
              "    <tr>\n",
              "      <th>19614</th>\n",
              "      <td>19614</td>\n",
              "      <td>0</td>\n",
              "      <td>0</td>\n",
              "      <td>0</td>\n",
              "      <td>0</td>\n",
              "      <td>0</td>\n",
              "    </tr>\n",
              "    <tr>\n",
              "      <th>19615</th>\n",
              "      <td>19615</td>\n",
              "      <td>0</td>\n",
              "      <td>0</td>\n",
              "      <td>0</td>\n",
              "      <td>0</td>\n",
              "      <td>0</td>\n",
              "    </tr>\n",
              "    <tr>\n",
              "      <th>19616</th>\n",
              "      <td>19616</td>\n",
              "      <td>0</td>\n",
              "      <td>0</td>\n",
              "      <td>0</td>\n",
              "      <td>0</td>\n",
              "      <td>0</td>\n",
              "    </tr>\n",
              "  </tbody>\n",
              "</table>\n",
              "<p>19617 rows × 6 columns</p>\n",
              "</div>"
            ],
            "text/plain": [
              "       index  0  1  2  3  4\n",
              "0          0  0  0  0  0  0\n",
              "1          1  0  0  0  0  0\n",
              "2          2  0  0  0  0  0\n",
              "3          3  0  0  0  0  0\n",
              "4          4  0  0  0  0  0\n",
              "...      ... .. .. .. .. ..\n",
              "19612  19612  0  0  0  0  0\n",
              "19613  19613  0  0  0  0  0\n",
              "19614  19614  0  0  0  0  0\n",
              "19615  19615  0  0  0  0  0\n",
              "19616  19616  0  0  0  0  0\n",
              "\n",
              "[19617 rows x 6 columns]"
            ]
          },
          "metadata": {
            "tags": []
          },
          "execution_count": 5
        }
      ]
    },
    {
      "cell_type": "code",
      "metadata": {
        "id": "CUTPYD4lEN7k"
      },
      "source": [
        ""
      ],
      "execution_count": null,
      "outputs": []
    },
    {
      "cell_type": "code",
      "metadata": {
        "id": "XfUrp7KTELQw"
      },
      "source": [
        "#부호를 제거해주는 함수\n",
        "def alpha_num(text):\n",
        "    return re.sub(r'[^A-Za-z0-9 ]', '', text)\n",
        " \n",
        "train['text']=train['text'].apply(alpha_num)"
      ],
      "execution_count": null,
      "outputs": []
    },
    {
      "cell_type": "code",
      "metadata": {
        "id": "VZFf27x1ESTF",
        "outputId": "1dd5ac8f-e82b-4640-bb38-4238c82abc20",
        "colab": {
          "base_uri": "https://localhost:8080/",
          "height": 880
        }
      },
      "source": [
        "#부호가 사라진 것을 확인할 수 있습니다.\n",
        "train"
      ],
      "execution_count": null,
      "outputs": [
        {
          "output_type": "execute_result",
          "data": {
            "text/html": [
              "<div>\n",
              "<style scoped>\n",
              "    .dataframe tbody tr th:only-of-type {\n",
              "        vertical-align: middle;\n",
              "    }\n",
              "\n",
              "    .dataframe tbody tr th {\n",
              "        vertical-align: top;\n",
              "    }\n",
              "\n",
              "    .dataframe thead th {\n",
              "        text-align: right;\n",
              "    }\n",
              "</style>\n",
              "<table border=\"1\" class=\"dataframe\">\n",
              "  <thead>\n",
              "    <tr style=\"text-align: right;\">\n",
              "      <th></th>\n",
              "      <th>index</th>\n",
              "      <th>text</th>\n",
              "      <th>author</th>\n",
              "    </tr>\n",
              "  </thead>\n",
              "  <tbody>\n",
              "    <tr>\n",
              "      <th>0</th>\n",
              "      <td>0</td>\n",
              "      <td>He was almost choking There was so much so muc...</td>\n",
              "      <td>3</td>\n",
              "    </tr>\n",
              "    <tr>\n",
              "      <th>1</th>\n",
              "      <td>1</td>\n",
              "      <td>Your sister asked for it I suppose</td>\n",
              "      <td>2</td>\n",
              "    </tr>\n",
              "    <tr>\n",
              "      <th>2</th>\n",
              "      <td>2</td>\n",
              "      <td>She was engaged one day as she walked in peru...</td>\n",
              "      <td>1</td>\n",
              "    </tr>\n",
              "    <tr>\n",
              "      <th>3</th>\n",
              "      <td>3</td>\n",
              "      <td>The captain was in the porch keeping himself c...</td>\n",
              "      <td>4</td>\n",
              "    </tr>\n",
              "    <tr>\n",
              "      <th>4</th>\n",
              "      <td>4</td>\n",
              "      <td>Have mercy gentlemen odin flung up his hands D...</td>\n",
              "      <td>3</td>\n",
              "    </tr>\n",
              "    <tr>\n",
              "      <th>...</th>\n",
              "      <td>...</td>\n",
              "      <td>...</td>\n",
              "      <td>...</td>\n",
              "    </tr>\n",
              "    <tr>\n",
              "      <th>54874</th>\n",
              "      <td>54874</td>\n",
              "      <td>Is that you Mr Smith odin whispered I hardly d...</td>\n",
              "      <td>2</td>\n",
              "    </tr>\n",
              "    <tr>\n",
              "      <th>54875</th>\n",
              "      <td>54875</td>\n",
              "      <td>I told my plan to the captain and between us w...</td>\n",
              "      <td>4</td>\n",
              "    </tr>\n",
              "    <tr>\n",
              "      <th>54876</th>\n",
              "      <td>54876</td>\n",
              "      <td>Your sincere wellwisher friend and sister LUC...</td>\n",
              "      <td>1</td>\n",
              "    </tr>\n",
              "    <tr>\n",
              "      <th>54877</th>\n",
              "      <td>54877</td>\n",
              "      <td>Then you wanted me to lend you money</td>\n",
              "      <td>3</td>\n",
              "    </tr>\n",
              "    <tr>\n",
              "      <th>54878</th>\n",
              "      <td>54878</td>\n",
              "      <td>It certainly had not occurred to me before but...</td>\n",
              "      <td>0</td>\n",
              "    </tr>\n",
              "  </tbody>\n",
              "</table>\n",
              "<p>54879 rows × 3 columns</p>\n",
              "</div>"
            ],
            "text/plain": [
              "       index                                               text  author\n",
              "0          0  He was almost choking There was so much so muc...       3\n",
              "1          1                 Your sister asked for it I suppose       2\n",
              "2          2   She was engaged one day as she walked in peru...       1\n",
              "3          3  The captain was in the porch keeping himself c...       4\n",
              "4          4  Have mercy gentlemen odin flung up his hands D...       3\n",
              "...      ...                                                ...     ...\n",
              "54874  54874  Is that you Mr Smith odin whispered I hardly d...       2\n",
              "54875  54875  I told my plan to the captain and between us w...       4\n",
              "54876  54876   Your sincere wellwisher friend and sister LUC...       1\n",
              "54877  54877               Then you wanted me to lend you money       3\n",
              "54878  54878  It certainly had not occurred to me before but...       0\n",
              "\n",
              "[54879 rows x 3 columns]"
            ]
          },
          "metadata": {
            "tags": []
          },
          "execution_count": 4
        }
      ]
    },
    {
      "cell_type": "code",
      "metadata": {
        "id": "SxB3a8kbDMi1",
        "outputId": "a052136a-3146-467e-ddc0-b19c03097e23",
        "colab": {
          "base_uri": "https://localhost:8080/",
          "height": 399
        }
      },
      "source": [
        "# 이상치 제거\n",
        "train = train[train.text != \"     \"]\n",
        "train = train.reset_index(drop=True)\n",
        "train"
      ],
      "execution_count": null,
      "outputs": [
        {
          "output_type": "execute_result",
          "data": {
            "text/html": [
              "<div>\n",
              "<style scoped>\n",
              "    .dataframe tbody tr th:only-of-type {\n",
              "        vertical-align: middle;\n",
              "    }\n",
              "\n",
              "    .dataframe tbody tr th {\n",
              "        vertical-align: top;\n",
              "    }\n",
              "\n",
              "    .dataframe thead th {\n",
              "        text-align: right;\n",
              "    }\n",
              "</style>\n",
              "<table border=\"1\" class=\"dataframe\">\n",
              "  <thead>\n",
              "    <tr style=\"text-align: right;\">\n",
              "      <th></th>\n",
              "      <th>index</th>\n",
              "      <th>text</th>\n",
              "      <th>author</th>\n",
              "    </tr>\n",
              "  </thead>\n",
              "  <tbody>\n",
              "    <tr>\n",
              "      <th>0</th>\n",
              "      <td>0</td>\n",
              "      <td>He was almost choking There was so much so muc...</td>\n",
              "      <td>3</td>\n",
              "    </tr>\n",
              "    <tr>\n",
              "      <th>1</th>\n",
              "      <td>1</td>\n",
              "      <td>Your sister asked for it I suppose</td>\n",
              "      <td>2</td>\n",
              "    </tr>\n",
              "    <tr>\n",
              "      <th>2</th>\n",
              "      <td>2</td>\n",
              "      <td>She was engaged one day as she walked in peru...</td>\n",
              "      <td>1</td>\n",
              "    </tr>\n",
              "    <tr>\n",
              "      <th>3</th>\n",
              "      <td>3</td>\n",
              "      <td>The captain was in the porch keeping himself c...</td>\n",
              "      <td>4</td>\n",
              "    </tr>\n",
              "    <tr>\n",
              "      <th>4</th>\n",
              "      <td>4</td>\n",
              "      <td>Have mercy gentlemen odin flung up his hands D...</td>\n",
              "      <td>3</td>\n",
              "    </tr>\n",
              "    <tr>\n",
              "      <th>...</th>\n",
              "      <td>...</td>\n",
              "      <td>...</td>\n",
              "      <td>...</td>\n",
              "    </tr>\n",
              "    <tr>\n",
              "      <th>54831</th>\n",
              "      <td>54874</td>\n",
              "      <td>Is that you Mr Smith odin whispered I hardly d...</td>\n",
              "      <td>2</td>\n",
              "    </tr>\n",
              "    <tr>\n",
              "      <th>54832</th>\n",
              "      <td>54875</td>\n",
              "      <td>I told my plan to the captain and between us w...</td>\n",
              "      <td>4</td>\n",
              "    </tr>\n",
              "    <tr>\n",
              "      <th>54833</th>\n",
              "      <td>54876</td>\n",
              "      <td>Your sincere wellwisher friend and sister LUC...</td>\n",
              "      <td>1</td>\n",
              "    </tr>\n",
              "    <tr>\n",
              "      <th>54834</th>\n",
              "      <td>54877</td>\n",
              "      <td>Then you wanted me to lend you money</td>\n",
              "      <td>3</td>\n",
              "    </tr>\n",
              "    <tr>\n",
              "      <th>54835</th>\n",
              "      <td>54878</td>\n",
              "      <td>It certainly had not occurred to me before but...</td>\n",
              "      <td>0</td>\n",
              "    </tr>\n",
              "  </tbody>\n",
              "</table>\n",
              "<p>54836 rows × 3 columns</p>\n",
              "</div>"
            ],
            "text/plain": [
              "       index                                               text  author\n",
              "0          0  He was almost choking There was so much so muc...       3\n",
              "1          1                 Your sister asked for it I suppose       2\n",
              "2          2   She was engaged one day as she walked in peru...       1\n",
              "3          3  The captain was in the porch keeping himself c...       4\n",
              "4          4  Have mercy gentlemen odin flung up his hands D...       3\n",
              "...      ...                                                ...     ...\n",
              "54831  54874  Is that you Mr Smith odin whispered I hardly d...       2\n",
              "54832  54875  I told my plan to the captain and between us w...       4\n",
              "54833  54876   Your sincere wellwisher friend and sister LUC...       1\n",
              "54834  54877               Then you wanted me to lend you money       3\n",
              "54835  54878  It certainly had not occurred to me before but...       0\n",
              "\n",
              "[54836 rows x 3 columns]"
            ]
          },
          "metadata": {
            "tags": []
          },
          "execution_count": 5
        }
      ]
    },
    {
      "cell_type": "code",
      "metadata": {
        "id": "m4AVMNI7clnV",
        "outputId": "1f5d179c-158d-4a6b-ae39-7949120acf88",
        "colab": {
          "base_uri": "https://localhost:8080/"
        }
      },
      "source": [
        "# 불용어\n",
        "from nltk.corpus import stopwords \n",
        "from nltk.tokenize import word_tokenize \n",
        "import nltk\n",
        "nltk.download('stopwords')"
      ],
      "execution_count": null,
      "outputs": [
        {
          "output_type": "stream",
          "text": [
            "[nltk_data] Downloading package stopwords to /root/nltk_data...\n",
            "[nltk_data]   Unzipping corpora/stopwords.zip.\n"
          ],
          "name": "stdout"
        },
        {
          "output_type": "execute_result",
          "data": {
            "text/plain": [
              "True"
            ]
          },
          "metadata": {
            "tags": []
          },
          "execution_count": 5
        }
      ]
    },
    {
      "cell_type": "code",
      "metadata": {
        "id": "c52F0FJCdQ7k"
      },
      "source": [
        "# 워드 클라우드를 통해 작가 별 공통적으로 다수 발견된 odin stopwords에 추가\n",
        "stop_words=stopwords.words('english')\n",
        "stop_words.append('odin')"
      ],
      "execution_count": null,
      "outputs": []
    },
    {
      "cell_type": "code",
      "metadata": {
        "id": "9E29G_RkEUXS",
        "outputId": "9b8cf086-eeb9-42e3-9185-e0dc5650de5b",
        "colab": {
          "base_uri": "https://localhost:8080/",
          "height": 569
        }
      },
      "source": [
        "# 불용어 제거해주는 함수\n",
        "def remove_stopwords(text):\n",
        "    final_text = []\n",
        "    for i in text.split():\n",
        "        if i.strip().lower() not in stop_words:\n",
        "            final_text.append(i.strip())\n",
        "    return \" \".join(final_text)\n",
        " \n",
        " \n",
        " \n",
        "'''\n",
        "# 불용어\n",
        "stopwords = [ \"a\", \"about\", \"above\", \"after\", \"again\", \"against\", \"all\", \"am\", \"an\", \"and\", \"any\", \"are\", \"as\", \n",
        "             \"at\", \"be\", \"because\", \"been\", \"before\", \"being\", \"below\", \"between\", \"both\", \"but\", \"by\", \"could\", \n",
        "             \"did\", \"do\", \"does\", \"doing\", \"down\", \"during\", \"each\", \"few\", \"for\", \"from\", \"further\", \"had\", \"has\", \n",
        "             \"have\", \"having\", \"he\", \"he'd\", \"he'll\", \"he's\", \"her\", \"here\", \"here's\", \"hers\", \"herself\", \"him\", \"himself\", \n",
        "             \"his\", \"how\", \"how's\", \"i\", \"i'd\", \"i'll\", \"i'm\", \"i've\", \"if\", \"in\", \"into\", \"is\", \"it\", \"it's\", \"its\", \"itself\", \n",
        "             \"let's\", \"me\", \"more\", \"most\", \"my\", \"myself\", \"nor\", \"of\", \"on\", \"once\", \"only\", \"or\", \"other\", \"ought\", \"our\", \"ours\", \n",
        "             \"ourselves\", \"out\", \"over\", \"own\", \"same\", \"she\", \"she'd\", \"she'll\", \"she's\", \"should\", \"so\", \"some\", \"such\", \"than\", \"that\", \n",
        "             \"that's\", \"the\", \"their\", \"theirs\", \"them\", \"themselves\", \"then\", \"there\", \"there's\", \"these\", \"they\", \"they'd\", \"they'll\", \n",
        "             \"they're\", \"they've\", \"this\", \"those\", \"through\", \"to\", \"too\", \"under\", \"until\", \"up\", \"very\", \"was\", \"we\", \"we'd\", \"we'll\", \n",
        "             \"we're\", \"we've\", \"were\", \"what\", \"what's\", \"when\", \"when's\", \"where\", \"where's\", \"which\", \"while\", \"who\", \"who's\", \"whom\", \n",
        "             \"why\", \"why's\", \"with\", \"would\", \"you\", \"you'd\", \"you'll\", \"you're\", \"you've\", \"your\", \"yours\", \"yourself\", \"yourselves\" ]\n",
        "'''"
      ],
      "execution_count": null,
      "outputs": [
        {
          "output_type": "execute_result",
          "data": {
            "application/vnd.google.colaboratory.intrinsic+json": {
              "type": "string"
            },
            "text/plain": [
              "'\\n# 불용어\\nstopwords = [ \"a\", \"about\", \"above\", \"after\", \"again\", \"against\", \"all\", \"am\", \"an\", \"and\", \"any\", \"are\", \"as\", \\n             \"at\", \"be\", \"because\", \"been\", \"before\", \"being\", \"below\", \"between\", \"both\", \"but\", \"by\", \"could\", \\n             \"did\", \"do\", \"does\", \"doing\", \"down\", \"during\", \"each\", \"few\", \"for\", \"from\", \"further\", \"had\", \"has\", \\n             \"have\", \"having\", \"he\", \"he\\'d\", \"he\\'ll\", \"he\\'s\", \"her\", \"here\", \"here\\'s\", \"hers\", \"herself\", \"him\", \"himself\", \\n             \"his\", \"how\", \"how\\'s\", \"i\", \"i\\'d\", \"i\\'ll\", \"i\\'m\", \"i\\'ve\", \"if\", \"in\", \"into\", \"is\", \"it\", \"it\\'s\", \"its\", \"itself\", \\n             \"let\\'s\", \"me\", \"more\", \"most\", \"my\", \"myself\", \"nor\", \"of\", \"on\", \"once\", \"only\", \"or\", \"other\", \"ought\", \"our\", \"ours\", \\n             \"ourselves\", \"out\", \"over\", \"own\", \"same\", \"she\", \"she\\'d\", \"she\\'ll\", \"she\\'s\", \"should\", \"so\", \"some\", \"such\", \"than\", \"that\", \\n             \"that\\'s\", \"the\", \"their\", \"theirs\", \"them\", \"themselves\", \"then\", \"there\", \"there\\'s\", \"these\", \"they\", \"they\\'d\", \"they\\'ll\", \\n             \"they\\'re\", \"they\\'ve\", \"this\", \"those\", \"through\", \"to\", \"too\", \"under\", \"until\", \"up\", \"very\", \"was\", \"we\", \"we\\'d\", \"we\\'ll\", \\n             \"we\\'re\", \"we\\'ve\", \"were\", \"what\", \"what\\'s\", \"when\", \"when\\'s\", \"where\", \"where\\'s\", \"which\", \"while\", \"who\", \"who\\'s\", \"whom\", \\n             \"why\", \"why\\'s\", \"with\", \"would\", \"you\", \"you\\'d\", \"you\\'ll\", \"you\\'re\", \"you\\'ve\", \"your\", \"yours\", \"yourself\", \"yourselves\" ]\\n'"
            ]
          },
          "metadata": {
            "tags": []
          },
          "execution_count": 7
        }
      ]
    },
    {
      "cell_type": "code",
      "metadata": {
        "id": "ggggJNmJfUEV"
      },
      "source": [
        ""
      ],
      "execution_count": null,
      "outputs": []
    },
    {
      "cell_type": "code",
      "metadata": {
        "id": "FvhAtvXuACEL"
      },
      "source": [
        "# 어간추출\n",
        "def stemming(text):\n",
        "    final_text = []\n",
        "    for i in text.split():\n",
        "      final_text.append(stemmer.stem(i))\n",
        "    return \" \".join(final_text)"
      ],
      "execution_count": null,
      "outputs": []
    },
    {
      "cell_type": "code",
      "metadata": {
        "id": "JbyjTNM9EkUI"
      },
      "source": [
        "#전처리 적용\n",
        "train['text'] = train['text'].str.lower()\n",
        "test['text'] = test['text'].str.lower()\n",
        "train['text'] = train['text'].apply(alpha_num)#.apply(remove_stopwords)\n",
        "test['text'] = test['text'].apply(alpha_num)#.apply(remove_stopwords)"
      ],
      "execution_count": null,
      "outputs": []
    },
    {
      "cell_type": "code",
      "metadata": {
        "id": "JOqrNJ7FEmI8"
      },
      "source": [
        "# train test 분리\n",
        "X_train = np.array([x for x in train['text']])\n",
        "X_test = np.array([x for x in test['text']])\n",
        "y_train = np.array([x for x in train['author']])"
      ],
      "execution_count": null,
      "outputs": []
    },
    {
      "cell_type": "code",
      "metadata": {
        "id": "zQavPQXKEnsX",
        "outputId": "5da51629-0b65-4d09-fe95-4fbb30ea196d",
        "colab": {
          "base_uri": "https://localhost:8080/"
        }
      },
      "source": [
        "X_train"
      ],
      "execution_count": null,
      "outputs": [
        {
          "output_type": "execute_result",
          "data": {
            "text/plain": [
              "array(['he was almost choking there was so much so much he wanted to say but strange exclamations were all that came from his lips the pole gazed fixedly at him at the bundle of notes in his hand looked at odin and was in evident perplexity',\n",
              "       'your sister asked for it i suppose',\n",
              "       ' she was engaged one day as she walked in perusing janes last letter and dwelling on some passages which proved that jane had not written in spirits when instead of being again surprised by mr odin she saw on looking up that odin was meeting her putting away the letter immediately and forcing a smile she said',\n",
              "       ..., ' your sincere wellwisher friend and sister lucy odin',\n",
              "       'then you wanted me to lend you money',\n",
              "       'it certainly had not occurred to me before but i said yes i should like that'],\n",
              "      dtype='<U2441')"
            ]
          },
          "metadata": {
            "tags": []
          },
          "execution_count": 10
        }
      ]
    },
    {
      "cell_type": "code",
      "metadata": {
        "id": "abzgeSzYEq63"
      },
      "source": [
        "#파라미터 설정\n",
        "vocab_size = 20000\n",
        "embedding_dim = 16\n",
        "max_length = 500\n",
        "padding_type='post'\n",
        "#oov_tok = \"<OOV>\""
      ],
      "execution_count": null,
      "outputs": []
    },
    {
      "cell_type": "code",
      "metadata": {
        "id": "lwSTwn_o6rUX"
      },
      "source": [
        ""
      ],
      "execution_count": null,
      "outputs": []
    },
    {
      "cell_type": "code",
      "metadata": {
        "id": "zL4ZK4taEsp_"
      },
      "source": [
        "#tokenizer에 fit\n",
        "tokenizer = Tokenizer(num_words = vocab_size)#, oov_token=oov_tok)\n",
        "tokenizer.fit_on_texts(X_train)\n",
        "word_index = tokenizer.word_index"
      ],
      "execution_count": null,
      "outputs": []
    },
    {
      "cell_type": "code",
      "metadata": {
        "id": "jLBhG2haSgzR"
      },
      "source": [
        "word_index"
      ],
      "execution_count": null,
      "outputs": []
    },
    {
      "cell_type": "code",
      "metadata": {
        "id": "0vhTkT1QEzRf"
      },
      "source": [
        "#데이터를 sequence로 변환해주고 padding 해줍니다.\n",
        "train_sequences = tokenizer.texts_to_sequences(X_train)\n",
        "train_padded = pad_sequences(train_sequences, padding=padding_type, maxlen=max_length)\n",
        " \n",
        "test_sequences = tokenizer.texts_to_sequences(X_test)\n",
        "test_padded = pad_sequences(test_sequences, padding=padding_type, maxlen=max_length)"
      ],
      "execution_count": null,
      "outputs": []
    },
    {
      "cell_type": "code",
      "metadata": {
        "id": "XAw2g6Uz-6m0"
      },
      "source": [
        "train_sequences"
      ],
      "execution_count": null,
      "outputs": []
    },
    {
      "cell_type": "code",
      "metadata": {
        "id": "rFxqpAjCf48W",
        "outputId": "49d9dcb2-c67a-4180-9ff1-3fa2f2df3f16",
        "colab": {
          "base_uri": "https://localhost:8080/"
        }
      },
      "source": [
        "train_padded"
      ],
      "execution_count": null,
      "outputs": [
        {
          "output_type": "execute_result",
          "data": {
            "text/plain": [
              "array([[    9,    11,   236, ...,     0,     0,     0],\n",
              "       [   49,   322,   142, ...,     0,     0,     0],\n",
              "       [   27,    11,   796, ...,     0,     0,     0],\n",
              "       ...,\n",
              "       [   49,  2525, 19858, ...,     0,     0,     0],\n",
              "       [   66,    10,   422, ...,     0,     0,     0],\n",
              "       [   12,   306,    16, ...,     0,     0,     0]], dtype=int32)"
            ]
          },
          "metadata": {
            "tags": []
          },
          "execution_count": 16
        }
      ]
    },
    {
      "cell_type": "code",
      "metadata": {
        "id": "JdZ7cKeXE6FT"
      },
      "source": [
        "# 다층 퍼셉트론 model\n",
        "model = tf.keras.Sequential([\n",
        "    tf.keras.layers.Embedding(vocab_size, embedding_dim, input_length=max_length),\n",
        "    tf.keras.layers.GlobalAveragePooling1D(),\n",
        "    tf.keras.layers.Dense(24, activation='relu'),\n",
        "    tf.keras.layers.Dense(5, activation='softmax')\n",
        "])"
      ],
      "execution_count": null,
      "outputs": []
    },
    {
      "cell_type": "code",
      "metadata": {
        "id": "liFufFDkE8su",
        "outputId": "bbb482c5-09b1-41f0-bcb1-07b7fe87c768",
        "colab": {
          "base_uri": "https://localhost:8080/"
        }
      },
      "source": [
        "# compile model\n",
        "model.compile(loss='sparse_categorical_crossentropy',\n",
        "              optimizer='adam',\n",
        "              metrics=['accuracy'])\n",
        " \n",
        "# model summary\n",
        "print(model.summary())"
      ],
      "execution_count": null,
      "outputs": [
        {
          "output_type": "stream",
          "text": [
            "Model: \"sequential\"\n",
            "_________________________________________________________________\n",
            "Layer (type)                 Output Shape              Param #   \n",
            "=================================================================\n",
            "embedding (Embedding)        (None, 500, 16)           320000    \n",
            "_________________________________________________________________\n",
            "global_average_pooling1d (Gl (None, 16)                0         \n",
            "_________________________________________________________________\n",
            "dense (Dense)                (None, 24)                408       \n",
            "_________________________________________________________________\n",
            "dense_1 (Dense)              (None, 5)                 125       \n",
            "=================================================================\n",
            "Total params: 320,533\n",
            "Trainable params: 320,533\n",
            "Non-trainable params: 0\n",
            "_________________________________________________________________\n",
            "None\n"
          ],
          "name": "stdout"
        }
      ]
    },
    {
      "cell_type": "code",
      "metadata": {
        "id": "VccoG5X2E-5j",
        "outputId": "01340b03-f4cb-46d1-eb96-4b5175fbc363",
        "colab": {
          "base_uri": "https://localhost:8080/"
        }
      },
      "source": [
        "# fit model\n",
        "num_epochs = 20\n",
        "history = model.fit(train_padded, y_train, \n",
        "                    epochs=num_epochs, verbose=2, \n",
        "                    validation_split=0.2)"
      ],
      "execution_count": null,
      "outputs": [
        {
          "output_type": "stream",
          "text": [
            "Epoch 1/20\n",
            "1372/1372 - 6s - loss: 1.5505 - accuracy: 0.2799 - val_loss: 1.4940 - val_accuracy: 0.3667\n",
            "Epoch 2/20\n",
            "1372/1372 - 5s - loss: 1.3832 - accuracy: 0.4153 - val_loss: 1.2884 - val_accuracy: 0.4275\n",
            "Epoch 3/20\n",
            "1372/1372 - 5s - loss: 1.1691 - accuracy: 0.5282 - val_loss: 1.1100 - val_accuracy: 0.5520\n",
            "Epoch 4/20\n",
            "1372/1372 - 7s - loss: 1.0366 - accuracy: 0.5862 - val_loss: 1.0180 - val_accuracy: 0.5976\n",
            "Epoch 5/20\n",
            "Epoch 6/20\n",
            "1372/1372 - 6s - loss: 0.8618 - accuracy: 0.6653 - val_loss: 0.8965 - val_accuracy: 0.6573\n",
            "Epoch 7/20\n",
            "1372/1372 - 6s - loss: 0.7950 - accuracy: 0.6962 - val_loss: 0.8689 - val_accuracy: 0.6694\n",
            "Epoch 8/20\n",
            "1372/1372 - 5s - loss: 0.7374 - accuracy: 0.7225 - val_loss: 0.8162 - val_accuracy: 0.6987\n",
            "Epoch 9/20\n",
            "1372/1372 - 6s - loss: 0.6875 - accuracy: 0.7446 - val_loss: 0.8033 - val_accuracy: 0.7033\n",
            "Epoch 10/20\n",
            "1372/1372 - 6s - loss: 0.6433 - accuracy: 0.7648 - val_loss: 0.7541 - val_accuracy: 0.7206\n",
            "Epoch 11/20\n",
            "1372/1372 - 6s - loss: 0.6060 - accuracy: 0.7806 - val_loss: 0.7444 - val_accuracy: 0.7263\n",
            "Epoch 12/20\n",
            "1372/1372 - 6s - loss: 0.5705 - accuracy: 0.7941 - val_loss: 0.7222 - val_accuracy: 0.7368\n",
            "Epoch 13/20\n",
            "1372/1372 - 6s - loss: 0.5396 - accuracy: 0.8082 - val_loss: 0.7263 - val_accuracy: 0.7317\n",
            "Epoch 14/20\n",
            "1372/1372 - 6s - loss: 0.5126 - accuracy: 0.8167 - val_loss: 0.7259 - val_accuracy: 0.7363\n",
            "Epoch 15/20\n",
            "1372/1372 - 6s - loss: 0.4895 - accuracy: 0.8246 - val_loss: 0.7232 - val_accuracy: 0.7355\n",
            "Epoch 16/20\n",
            "1372/1372 - 6s - loss: 0.4672 - accuracy: 0.8329 - val_loss: 0.6971 - val_accuracy: 0.7521\n",
            "Epoch 17/20\n",
            "1372/1372 - 6s - loss: 0.4453 - accuracy: 0.8416 - val_loss: 0.7038 - val_accuracy: 0.7468\n",
            "Epoch 18/20\n",
            "1372/1372 - 6s - loss: 0.4287 - accuracy: 0.8470 - val_loss: 0.6908 - val_accuracy: 0.7577\n",
            "Epoch 19/20\n",
            "1372/1372 - 6s - loss: 0.4114 - accuracy: 0.8519 - val_loss: 0.7030 - val_accuracy: 0.7494\n",
            "Epoch 20/20\n",
            "1372/1372 - 6s - loss: 0.3978 - accuracy: 0.8573 - val_loss: 0.7272 - val_accuracy: 0.7498\n"
          ],
          "name": "stdout"
        }
      ]
    },
    {
      "cell_type": "code",
      "metadata": {
        "id": "gbkUEKlZFAxE",
        "outputId": "564f068c-49f5-40f2-bf5e-15a57a8b99b1",
        "colab": {
          "base_uri": "https://localhost:8080/"
        }
      },
      "source": [
        "# predict values\n",
        "pred = model.predict_proba(test_padded)"
      ],
      "execution_count": null,
      "outputs": [
        {
          "output_type": "stream",
          "text": [
            "WARNING:tensorflow:From <ipython-input-20-9e01c6cf1b05>:2: Sequential.predict_proba (from tensorflow.python.keras.engine.sequential) is deprecated and will be removed after 2021-01-01.\n",
            "Instructions for updating:\n",
            "Please use `model.predict()` instead.\n"
          ],
          "name": "stdout"
        }
      ]
    },
    {
      "cell_type": "code",
      "metadata": {
        "id": "JI57jUMqFCL7",
        "outputId": "9456b6b9-4a6e-4f60-ca16-0f23edbf7979",
        "colab": {
          "base_uri": "https://localhost:8080/"
        }
      },
      "source": [
        "pred"
      ],
      "execution_count": null,
      "outputs": [
        {
          "output_type": "execute_result",
          "data": {
            "text/plain": [
              "array([[3.2877051e-05, 9.5599562e-01, 3.8127601e-02, 5.8126464e-03,\n",
              "        3.1364561e-05],\n",
              "       [1.7886887e-01, 3.4912699e-01, 1.8379903e-01, 1.3160863e-02,\n",
              "        2.7504420e-01],\n",
              "       [9.9985516e-01, 7.1456692e-05, 5.8449263e-05, 4.7566672e-08,\n",
              "        1.4936313e-05],\n",
              "       ...,\n",
              "       [1.0377860e-04, 9.9988210e-01, 8.4422345e-09, 1.4032576e-05,\n",
              "        8.5060137e-09],\n",
              "       [7.7965538e-05, 9.9991143e-01, 3.5215376e-06, 5.3770423e-06,\n",
              "        1.6582266e-06],\n",
              "       [9.9871945e-01, 4.6072760e-06, 6.7412818e-04, 1.2786379e-06,\n",
              "        6.0056866e-04]], dtype=float32)"
            ]
          },
          "metadata": {
            "tags": []
          },
          "execution_count": 21
        }
      ]
    },
    {
      "cell_type": "code",
      "metadata": {
        "id": "oODg2MgCFEo9",
        "outputId": "7d8aeaad-8a3d-4bc4-beba-aba5f748b5cb",
        "colab": {
          "base_uri": "https://localhost:8080/",
          "height": 652
        }
      },
      "source": [
        "# submission\n",
        "sample_submission[['0','1','2','3','4']] = pred\n",
        "sample_submission"
      ],
      "execution_count": null,
      "outputs": [
        {
          "output_type": "execute_result",
          "data": {
            "text/html": [
              "<div>\n",
              "<style scoped>\n",
              "    .dataframe tbody tr th:only-of-type {\n",
              "        vertical-align: middle;\n",
              "    }\n",
              "\n",
              "    .dataframe tbody tr th {\n",
              "        vertical-align: top;\n",
              "    }\n",
              "\n",
              "    .dataframe thead th {\n",
              "        text-align: right;\n",
              "    }\n",
              "</style>\n",
              "<table border=\"1\" class=\"dataframe\">\n",
              "  <thead>\n",
              "    <tr style=\"text-align: right;\">\n",
              "      <th></th>\n",
              "      <th>index</th>\n",
              "      <th>0</th>\n",
              "      <th>1</th>\n",
              "      <th>2</th>\n",
              "      <th>3</th>\n",
              "      <th>4</th>\n",
              "    </tr>\n",
              "  </thead>\n",
              "  <tbody>\n",
              "    <tr>\n",
              "      <th>0</th>\n",
              "      <td>0</td>\n",
              "      <td>3.287705e-05</td>\n",
              "      <td>9.559956e-01</td>\n",
              "      <td>3.812760e-02</td>\n",
              "      <td>5.812646e-03</td>\n",
              "      <td>3.136456e-05</td>\n",
              "    </tr>\n",
              "    <tr>\n",
              "      <th>1</th>\n",
              "      <td>1</td>\n",
              "      <td>1.788689e-01</td>\n",
              "      <td>3.491270e-01</td>\n",
              "      <td>1.837990e-01</td>\n",
              "      <td>1.316086e-02</td>\n",
              "      <td>2.750442e-01</td>\n",
              "    </tr>\n",
              "    <tr>\n",
              "      <th>2</th>\n",
              "      <td>2</td>\n",
              "      <td>9.998552e-01</td>\n",
              "      <td>7.145669e-05</td>\n",
              "      <td>5.844926e-05</td>\n",
              "      <td>4.756667e-08</td>\n",
              "      <td>1.493631e-05</td>\n",
              "    </tr>\n",
              "    <tr>\n",
              "      <th>3</th>\n",
              "      <td>3</td>\n",
              "      <td>2.019325e-06</td>\n",
              "      <td>1.664023e-12</td>\n",
              "      <td>9.999971e-01</td>\n",
              "      <td>9.616202e-12</td>\n",
              "      <td>8.019470e-07</td>\n",
              "    </tr>\n",
              "    <tr>\n",
              "      <th>4</th>\n",
              "      <td>4</td>\n",
              "      <td>9.976664e-01</td>\n",
              "      <td>7.921504e-04</td>\n",
              "      <td>2.906237e-04</td>\n",
              "      <td>1.245494e-03</td>\n",
              "      <td>5.345343e-06</td>\n",
              "    </tr>\n",
              "    <tr>\n",
              "      <th>...</th>\n",
              "      <td>...</td>\n",
              "      <td>...</td>\n",
              "      <td>...</td>\n",
              "      <td>...</td>\n",
              "      <td>...</td>\n",
              "      <td>...</td>\n",
              "    </tr>\n",
              "    <tr>\n",
              "      <th>19612</th>\n",
              "      <td>19612</td>\n",
              "      <td>7.053748e-09</td>\n",
              "      <td>1.000000e+00</td>\n",
              "      <td>1.277726e-17</td>\n",
              "      <td>1.531390e-12</td>\n",
              "      <td>2.659210e-19</td>\n",
              "    </tr>\n",
              "    <tr>\n",
              "      <th>19613</th>\n",
              "      <td>19613</td>\n",
              "      <td>9.616914e-04</td>\n",
              "      <td>1.927661e-06</td>\n",
              "      <td>1.410670e-03</td>\n",
              "      <td>1.559642e-10</td>\n",
              "      <td>9.976258e-01</td>\n",
              "    </tr>\n",
              "    <tr>\n",
              "      <th>19614</th>\n",
              "      <td>19614</td>\n",
              "      <td>1.037786e-04</td>\n",
              "      <td>9.998821e-01</td>\n",
              "      <td>8.442234e-09</td>\n",
              "      <td>1.403258e-05</td>\n",
              "      <td>8.506014e-09</td>\n",
              "    </tr>\n",
              "    <tr>\n",
              "      <th>19615</th>\n",
              "      <td>19615</td>\n",
              "      <td>7.796554e-05</td>\n",
              "      <td>9.999114e-01</td>\n",
              "      <td>3.521538e-06</td>\n",
              "      <td>5.377042e-06</td>\n",
              "      <td>1.658227e-06</td>\n",
              "    </tr>\n",
              "    <tr>\n",
              "      <th>19616</th>\n",
              "      <td>19616</td>\n",
              "      <td>9.987195e-01</td>\n",
              "      <td>4.607276e-06</td>\n",
              "      <td>6.741282e-04</td>\n",
              "      <td>1.278638e-06</td>\n",
              "      <td>6.005687e-04</td>\n",
              "    </tr>\n",
              "  </tbody>\n",
              "</table>\n",
              "<p>19617 rows × 6 columns</p>\n",
              "</div>"
            ],
            "text/plain": [
              "       index             0  ...             3             4\n",
              "0          0  3.287705e-05  ...  5.812646e-03  3.136456e-05\n",
              "1          1  1.788689e-01  ...  1.316086e-02  2.750442e-01\n",
              "2          2  9.998552e-01  ...  4.756667e-08  1.493631e-05\n",
              "3          3  2.019325e-06  ...  9.616202e-12  8.019470e-07\n",
              "4          4  9.976664e-01  ...  1.245494e-03  5.345343e-06\n",
              "...      ...           ...  ...           ...           ...\n",
              "19612  19612  7.053748e-09  ...  1.531390e-12  2.659210e-19\n",
              "19613  19613  9.616914e-04  ...  1.559642e-10  9.976258e-01\n",
              "19614  19614  1.037786e-04  ...  1.403258e-05  8.506014e-09\n",
              "19615  19615  7.796554e-05  ...  5.377042e-06  1.658227e-06\n",
              "19616  19616  9.987195e-01  ...  1.278638e-06  6.005687e-04\n",
              "\n",
              "[19617 rows x 6 columns]"
            ]
          },
          "metadata": {
            "tags": []
          },
          "execution_count": 22
        }
      ]
    },
    {
      "cell_type": "code",
      "metadata": {
        "id": "xArBTSSPli5u"
      },
      "source": [
        "sample_submission.to_csv('submission.csv', index = False, encoding = 'utf-8')"
      ],
      "execution_count": null,
      "outputs": []
    }
  ]
}